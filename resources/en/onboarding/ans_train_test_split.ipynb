{
 "cells": [
  {
   "cell_type": "code",
   "execution_count": 1,
   "metadata": {},
   "outputs": [],
   "source": [
    "import json\n",
    "import random\n",
    "import copy"
   ]
  },
  {
   "cell_type": "code",
   "execution_count": 2,
   "metadata": {},
   "outputs": [
    {
     "name": "stdout",
     "output_type": "stream",
     "text": [
      "{'16939912049114625': ['Apartment shopping', 'Looking for accommodation', 'I need a Flat', 'Somewhere to live', 'Finding Housing', 'I want to find an apartment', 'Where can I find information on housing?'], '16939912323240997': ['Information for international students', 'Information for non-german students', 'Foreign student info', 'International student info', 'Guidance for international students', 'I need help about an international student issue'], '16939919957853833': ['Train', 'Public transportation', 'Public transit', 'Mass transit', 'Transportation', 'Information about the train system', 'Bus info'], '16939919798263477': ['Work permits, residence permits, and visas', 'I need a residence permit', 'Visa', 'I need a work permit', 'Visa information', 'I have a residence permit issue', 'I need help getting a work permit'], '16939923573475838': ['Temporary accommodation', 'Short term stay', 'Hotels', 'Hotel room', 'Book a hotel', 'Motel'], '16939923635329728': ['Long-term housing', 'Long-term rental', 'A place to stay long-term', 'Rental housing', 'I want to rent an apartment', \"I'm looking for a flat\"], '16939924558739259': ['Apartment shopping', 'Looking for accommodation', 'I need a Flat', 'Somewhere to live', 'Finding Housing', 'I want to find an apartment', 'Where can I find information on housing?'], '16939924308109388': ['Register with bank', 'Opening a bank account', 'Opening new account', 'Bank account', 'I need a new account', 'Creating a bank account'], '16939924651091479': ['University offerings', 'University resources', 'University services', 'Service', 'Resources by the University', 'What services does the University offer?', 'What is the university offering?'], '16939924484347907': ['Student enrollment', 'Enrolling in a study program', 'Matriculation', 'Enrolling in the university', 'I need to enroll', 'How can I matriculate', 'How to enter a study program?'], '16939927127743408': ['Sports', 'University sport program', 'Sports organizations', 'Sport offers', 'What sports programs does the university offer?', 'How can I sign up for sports?'], '16940089183408053': ['Registering a new address', 'How to register my address with the city', 'Updating my address with the city', 'I need to register my address', 'Update address', 'New address'], '16940138665420723': ['I want a job', 'Job options', 'Job offer', 'Work opportunities', \"I'm looking for employment\", 'Employment options', 'Working'], '16940139803270397': ['Transportation', 'Travel options', 'What transportation options are available?', 'Public transit', 'Local transportation', 'How can I get around in the city?', 'Information about trains', 'Bus info'], '16939924364114252': ['I need health insurance', 'Insurance', 'How to get health insurance?', 'Getting health insurance', 'Health insurance', 'How do I sign up for health insurance?'], '16939964154911386': ['Flat share', 'Shared apartment', 'Living with roommates', 'Sharing a flat', 'I want to live with friends'], '16939964269424731': ['Renting a flat', 'Rental apartment', 'Private apartment', 'Renting', 'Private flat', 'I want to live alone'], '16939964212012724': ['On-campus housing', 'Student housing', 'Student dorms', 'Dorms', 'I want to live on campus', 'A place in the student dorms'], '16939966036739596': ['Any differences?', \"What's different?\", 'What are the differences?', 'How are they different?', 'Can you explain the different options', \"I don't know the differences\"], '16940085574315151': ['Sure', 'Yeah', 'Yup', 'yes', 'I do'], '16940085581804287': ['Definitely not', 'Nope', 'no', 'Nah', \"I don't\"], '16940097664505093': ['Sure', 'Yeah', 'Yup', 'yes', 'I do'], '16940097709000821': ['Definitely not', 'Nope', 'no', 'Nah', \"I don't\"], '16940100183728098': ['Signing a contract', 'Finalizing an offer', 'Accepting an offer', 'Formalizing a contract', 'How do I accept an offer?', 'What do I need to do to finalize a contract?'], '16940100253612872': ['I want to apply for student housing', 'Apply for on-campus housing', 'I need student housing', 'I want a dorm room', 'How can I sign up for student dorms?', 'Register with student housing'], '16940109896655093': ['Moving in', 'How to move in', 'Day of moving in', 'Move in day', 'How does moving in work?', 'What do I need to do for moving in?'], '16940109983988855': ['Day of moving out', 'Move out day', 'How to move out', 'Moving out', 'How does moving out work?', 'What do I need to do for moving out?'], '16940123725568928': ['Sure', 'Yeah', 'Yup', 'yes', 'I will be able to', 'Yes, I can collect them'], '16940123769907448': ['Definitely not', 'Nope', 'no', 'Nah', \"I won't be able to\", \"No, I can't collect them\"], '16940129688619224': ['Studierendenwerk Stuttgart', 'SWS', 'Studierendenwerk', 'Student ministry'], '16940129733853339': ['Student ministry', 'Studierendenwerk Stuttgart', 'Studierendenwerk', 'SWS'], '16940131883029271': ['SWS', 'Studierendenwerk Stuttgart', 'Studierendenwerk', 'Student ministry'], '16940129920308052': ['VSSW', 'Student residences in Stuttgart', 'Student residences', 'Stuttgart student residences'], '16940140266058042': ['Sure', 'Yeah', 'Yup', 'yes', 'I do', 'Yes, I want info'], '16940140272888859': ['Definitely not', 'Nope', 'no', 'Nah', \"I don't\", \"No, I don't need info\"], '16940141082206724': ['Graduate student', 'University student', \"I'm a student\", 'Student', \"I'm enrolled as a student\", \"I'm currently studying\"], '16940141089713987': ['Scientific employee', 'University employee', 'University staff', 'Employee', \"I'm working for the university\", 'I belong to staff'], '16940141105212927': ['No', 'Nope', 'Definitely not', 'Nah', 'Neither', 'None of the above'], '16940143325295675': ['Close by', 'Stay in the area', 'Within the city', 'In this area', 'I want to stay here', \"I don't plan to travel\"], '16940143370392515': ['Travel outside the region', 'Leaving the city', 'Explore the whole state', 'travel farther', 'I want to see Germany', 'I want to explore the country'], '16940158032227419': ['From the EU', 'EU citizen', 'EU member', 'EU Country', \"I'm a EU citizen\"], '16940158088455928': ['I am from a country with a special exception', 'I have a special exception', 'My country has an exception', \"What if I'm from a country which is exempt\", 'Special exception'], '16940785166291124': ['What countries have a special status?', 'Who has a special status?', 'Countries with special status?', 'What is a special status?', 'Special status'], '16940158313753595': ['No', 'Nope', 'Definitely not', 'Nah', 'Neither', 'None of the above'], '16940162893485791': ['Sure', 'Yeah', 'Yup', 'yes', 'I want to work'], '16940162931654921': ['Definitely not', 'Nope', 'no', 'Nah', \"I don't want to work\"], '16940164383845341': ['Sure', 'Yeah', 'Yup', 'yes', 'I do', 'I am privately insured'], '16940164391346014': ['Definitely not', 'Nope', 'no', 'Nah', \"I don't\", \"No, I'm not privately insured\"], '16940165963363276': ['Sure', 'Yeah', 'Yup', 'yes', \"Yes, I'm younger\"], '16940166004684637': ['Definitely not', 'Nope', 'no', 'Nah', \"No, I'm older\"], '16940841194105511': ['Sure', 'Yeah', 'Yup', 'yes', 'I do have an account'], '16940841202571564': ['Definitely not', 'Nope', 'no', 'Nah', \"I don't have any account\"], '16940886179228624': [\"I'm pursuing a degree\", 'Enrolled student', 'degree student', \"I'm a degree student\", 'I want a degree'], '16940886234142515': [\"I'm doing an exchange semester\", \"I'm studying abroad\", \"I'm here on exchange\", 'exchange student', 'On exchange'], '16940913013355993': ['Sure', 'Yeah', 'Yup', 'yes', 'I am', 'I do need a Visa'], '16940913020019265': ['Definitely not', 'Nope', 'no', 'Nah', \"I'm not\", \"I don't need a Visa\"], '16940913026335336': ['Where do I find out if i should get one?', 'how do I know if I need one?', 'How to tell if I require one?', 'Do I need one?', 'How can I find out?', 'Where do I get that information?']}\n"
     ]
    }
   ],
   "source": [
    "\n",
    "with open(\"test_answers.json\", \"r\") as f:\n",
    "    data = json.load(f)\n",
    "\n",
    "print(data)"
   ]
  },
  {
   "cell_type": "code",
   "execution_count": 3,
   "metadata": {},
   "outputs": [
    {
     "name": "stdout",
     "output_type": "stream",
     "text": [
      "3.0701754385964914\n",
      "2.6666666666666665\n"
     ]
    }
   ],
   "source": [
    "train_split = {}\n",
    "test_split = {}\n",
    "\n",
    "min = 4\n",
    "max = 8\n",
    "\n",
    "for answer_key in data:\n",
    "    answers = data[answer_key]\n",
    "    random.shuffle(answers)\n",
    "    num_answers = len(answers)\n",
    "\n",
    "    test_split_idx = num_answers // 2\n",
    "\n",
    "    train_split[answer_key] = copy.deepcopy(answers[test_split_idx:])\n",
    "    test_split[answer_key] = copy.deepcopy(answers[:test_split_idx])\n",
    "\n",
    "from statistics import mean\n",
    "print(mean([len(train_split[answer_key]) for answer_key in train_split]))\n",
    "print(mean([len(test_split[answer_key]) for answer_key in test_split]))\n",
    "\n"
   ]
  },
  {
   "cell_type": "code",
   "execution_count": 4,
   "metadata": {},
   "outputs": [],
   "source": [
    "with open(\"train_answers.json\", \"w\") as f:\n",
    "    json.dump(train_split, f)\n",
    "\n",
    "with open(\"test_answers.json\", \"w\") as f:\n",
    "    json.dump(test_split, f)"
   ]
  },
  {
   "cell_type": "code",
   "execution_count": null,
   "metadata": {},
   "outputs": [],
   "source": []
  }
 ],
 "metadata": {
  "kernelspec": {
   "display_name": "cts_en",
   "language": "python",
   "name": "python3"
  },
  "language_info": {
   "codemirror_mode": {
    "name": "ipython",
    "version": 3
   },
   "file_extension": ".py",
   "mimetype": "text/x-python",
   "name": "python",
   "nbconvert_exporter": "python",
   "pygments_lexer": "ipython3",
   "version": "3.10.8"
  }
 },
 "nbformat": 4,
 "nbformat_minor": 2
}
