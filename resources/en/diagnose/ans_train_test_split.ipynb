{
 "cells": [
  {
   "cell_type": "code",
   "execution_count": 1,
   "metadata": {},
   "outputs": [],
   "source": [
    "import json\n",
    "import random\n",
    "import copy"
   ]
  },
  {
   "cell_type": "code",
   "execution_count": 2,
   "metadata": {},
   "outputs": [
    {
     "name": "stdout",
     "output_type": "stream",
     "text": [
      "{'16971354911194779': [\"I'm loosing my hair\", 'My hair keeps falling out', 'Receding hairline', 'Patches of hair are falling out', 'Sudden hair loss', 'Patchy hair'], '16971354934554699': ['Lice', 'I got lice on my head', 'Lice infection', 'I found head lice', 'My son has lice in his hair', 'I think I might have lice'], '16971354920505872': ['Flaky skin', 'Skin particles', 'I got dandruff', 'I have really dry skin on my head', 'I keep scratching flakes of skin off my head', 'I have a lot of dandruff right now'], '16971221777663728': [\"I'm tired\", 'Exhaustion', 'I feel weak', 'I feel really tired all the time', 'I feel faint and tired', \"I'm exhausted\"], '16971222007034704': ['Elevated temperature', \"I'm too hot\", 'I think I caught a fever', 'I have a fever', \"I'm running a temperature\", \"I'm feverish\"], '16971229519683377': ['Examination procedure', 'How to diagnose', 'Diagnosis criteria', 'What needs to be done to diagnose this?', 'How can I get a diagnosis for this?', 'What tests can be run?'], '16971229586044452': ['How to heal', 'How to treat', 'Treatment options', 'What sort of treatments are there?', 'What can I do against this?', 'What sort of treatments are there?'], '16971229656275759': ['Am I in a risk group?', 'Predisposition', 'What factors can increase my risk?', 'Who is especially at risk?', 'Which groups have a higher risk?', 'Are there factors that could increase my risk?'], '16971232611600319': ['What are the signs?', 'How does it show?', 'What are the symptoms?', 'What symptoms could I expect?', 'What are common symptoms of this condition?', 'What affects are caused by this?'], '16971230504187963': ['Nah', 'Nope', \"That's all, thanks\", 'Not at the moment', 'For now that answered everything, thanks', 'Not anymore, thanks'], '16971234510821283': ['When should I consult a professional?', 'Do I need a doctor?', 'At what point should I get a checkup?', 'How can I tell when I should got to a doctor?', 'At what point is it serious enough to call a hospital?', 'When should I stop trying to treat this at home?'], '16971237298219789': ['How to heal', 'How to treat', 'Treatment options', 'What sort of treatments are there?', 'What can I do against this?', 'What sort of treatments are there?'], '16971237298211832': ['Nah', 'Nope', \"That's all, thanks\", 'Not at the moment', 'For now that answered everything, thanks', 'Not anymore, thanks'], '16971239507140126': ['I feel itchy', 'I have blisters', 'My skin is breaking out', 'My skin itches', 'I have itchy blisters', 'My skin is blistered and itching'], '16971239514983027': ['I gained weight', \"I'm feeling tired\", 'Weakness', \"I'm exhausted and have gained a lot of weight\", 'I fell really weak and tired', 'I gained 20 lbs in the last month and feel weak all the time'], '16971239523140289': ['No', 'None of the above', 'Nothing', 'None of those apply', \"I don't have any of those\", 'Nope'], '16971246643519631': ['Examination procedure', 'How to diagnose', 'Diagnosis criteria', 'What needs to be done to diagnose this?', 'How can I get a diagnosis for this?', 'What tests can be run?'], '16971246643513439': ['How to heal', 'How to treat', 'Treatment options', 'What sort of treatments are there?', 'What can I do against this?', 'What sort of treatments are there?'], '16971246643514197': ['Am I in a risk group?', 'Predisposition', 'What factors can increase my risk?', 'Who is especially at risk?', 'Which groups have a higher risk?', 'Are there factors that could increase my risk?'], '16971246643518059': ['What are the signs?', 'How does it show?', 'What are the symptoms?', 'What symptoms could I expect?', 'What are common symptoms of this condition?', 'What affects are caused by this?'], '16971246643510314': ['Nah', 'Nope', \"That's all, thanks\", 'Not at the moment', 'For now that answered everything, thanks', 'Not anymore, thanks'], '16971246643513672': ['When should I consult a professional?', 'Do I need a doctor?', 'At what point should I get a checkup?', 'How can I tell when I should got to a doctor?', 'At what point is it serious enough to call a hospital?', 'When should I stop trying to treat this at home?'], '16971270171420849': ['How to heal', 'How to treat', 'Treatment options', 'What sort of treatments are there?', 'What can I do against this?', 'What sort of treatments are there?'], '16971270171421586': ['What are the signs?', 'How does it show?', 'What are the symptoms?', 'What symptoms could I expect?', 'What are common symptoms of this condition?', 'What affects are caused by this?'], '16971270171428475': ['Nah', 'Nope', \"That's all, thanks\", 'Not at the moment', 'For now that answered everything, thanks', 'Not anymore, thanks'], '16971273905408111': ['Examination procedure', 'How to diagnose', 'Diagnosis criteria', 'What needs to be done to diagnose this?', 'How can I get a diagnosis for this?', 'What tests can be run?'], '16971273905402652': ['How to heal', 'How to treat', 'Treatment options', 'What sort of treatments are there?', 'What can I do against this?', 'What sort of treatments are there?'], '16971273905400965': ['Am I in a risk group?', 'Predisposition', 'What factors can increase my risk?', 'Who is especially at risk?', 'Which groups have a higher risk?', 'Are there factors that could increase my risk?'], '16971273905407795': ['What are the signs?', 'How does it show?', 'What are the symptoms?', 'What symptoms could I expect?', 'What are common symptoms of this condition?', 'What affects are caused by this?'], '16971273905404107': ['Nah', 'Nope', \"That's all, thanks\", 'Not at the moment', 'For now that answered everything, thanks', 'Not anymore, thanks'], '16971273905404992': ['When should I consult a professional?', 'Do I need a doctor?', 'At what point should I get a checkup?', 'How can I tell when I should got to a doctor?', 'At what point is it serious enough to call a hospital?', 'When should I stop trying to treat this at home?'], '16971279013583226': [\"I can't sleep and feel guilty all the time\", 'Sleeplessness and self-worth issues', 'I feel guilty and worthless', 'I have insomnia and feel worthless', 'I feel like a terrible person', 'I have trouble sleeping anymore'], '16971279165652383': [\"I'm gaining weight\", \"I don't have any strength\", 'My hair is falling out', 'I feel weak and tired all the time', 'I keep losing hair', \"I've been gaining weight and losing hair\"], '16971279712879362': ['Paleness', 'I have trouble catching my breath', 'My gums are quite pale', 'My skin has gotten really pale and I have weird food cravings', 'I want to eat weird things and am short of breath', 'I have strange food cravings'], '16971280593724046': [\"I'm very tired\", 'My muscles hurt', 'My joints hurt', 'I have muscle aches and exhaustion', \"My joints hurt and I don't have any energy anymore\", \"I'm so tired and everything hurts\"], '16971281904644018': ['Examination procedure', 'How to diagnose', 'Diagnosis criteria', 'What needs to be done to diagnose this?', 'How can I get a diagnosis for this?', 'What tests can be run?'], '16971281904649971': ['How to heal', 'How to treat', 'Treatment options', 'What sort of treatments are there?', 'What can I do against this?', 'What sort of treatments are there?'], '16971281904640905': ['Am I in a risk group?', 'Predisposition', 'What factors can increase my risk?', 'Who is especially at risk?', 'Which groups have a higher risk?', 'Are there factors that could increase my risk?'], '16971281904647165': ['What are the signs?', 'How does it show?', 'What are the symptoms?', 'What symptoms could I expect?', 'What are common symptoms of this condition?', 'What affects are caused by this?'], '16971281904644915': ['Nah', 'Nope', \"That's all, thanks\", 'Not at the moment', 'For now that answered everything, thanks', 'Not anymore, thanks'], '16971314496469196': ['Examination procedure', 'How to diagnose', 'Diagnosis criteria', 'What needs to be done to diagnose this?', 'How can I get a diagnosis for this?', 'What tests can be run?'], '16971314496466532': ['How to heal', 'How to treat', 'Treatment options', 'What sort of treatments are there?', 'What can I do against this?', 'What sort of treatments are there?'], '16971314496463714': ['Am I in a risk group?', 'Predisposition', 'What factors can increase my risk?', 'Who is especially at risk?', 'Which groups have a higher risk?', 'Are there factors that could increase my risk?'], '16971314496460674': ['What are the signs?', 'How does it show?', 'What are the symptoms?', 'What symptoms could I expect?', 'What are common symptoms of this condition?', 'What affects are caused by this?'], '16971314496468746': ['Nah', 'Nope', \"That's all, thanks\", 'Not at the moment', 'For now that answered everything, thanks', 'Not anymore, thanks'], '16971314657422055': ['When should I consult a professional?', 'Do I need a doctor?', 'At what point should I get a checkup?', 'How can I tell when I should got to a doctor?', 'At what point is it serious enough to call a hospital?', 'When should I stop trying to treat this at home?'], '16971314657424028': ['How to heal', 'How to treat', 'Treatment options', 'What sort of treatments are there?', 'What can I do against this?', 'What sort of treatments are there?'], '16971314657429096': ['Am I in a risk group?', 'Predisposition', 'What factors can increase my risk?', 'Who is especially at risk?', 'Which groups have a higher risk?', 'Are there factors that could increase my risk?'], '16971314657428702': ['What are the signs?', 'How does it show?', 'What are the symptoms?', 'What symptoms could I expect?', 'What are common symptoms of this condition?', 'What affects are caused by this?'], '16971314657429036': ['Nah', 'Nope', \"That's all, thanks\", 'Not at the moment', 'For now that answered everything, thanks', 'Not anymore, thanks'], '16971352514626322': ['Low grade', 'Slightly elevated temperature', 'Less than 102', \"It's a low fever\", '101', '100'], '16971352522401118': ['Medium grade', 'Medium fever', 'Between 103 and 104', '103', 'Mid range fever', '104'], '16971353969249664': ['Bad chills', 'Coughing hurts my chest', 'It hurts when I take a deep breath', 'It hurts to breath', 'I keep coughing, but it hurts to cough', \"I have chills so bad I'm shaking\"], '16971356556297304': ['My throat hurts and I have a runny nose', 'I have muscle pain', 'My nose is runny and my muscles are sore', 'I have a bit of a cough', 'My nose is running and I keep needing to cough', 'I have a cough and sore muscles'], '16971356759348826': [\"My throat is sore and I can't swallow\", 'My lymph nodes hurt', 'Swallowing hurts, and my throat hurts', 'It hurts to swallow my throat is so sore', 'I have a really sore throat', 'My lymph nodes are swollen and my throat hurts'], '16971357130623457': ['I have to sneeze', 'My nose is runny and I keep sneezing', \"I'm sleepy and have a runny nose\", 'I have a drippy nose and keep sneezing', \"I'm pretty tired and have a runny nose\", \"My nose is running and I'm pretty tired\"], '16971358948653863': ['Viral', 'Viral pneumonia'], '16971359019109161': ['Bacterial', 'Bacterial pneumonia'], '16971359253595421': ['Examination procedure', 'How to diagnose', 'Diagnosis criteria', 'What needs to be done to diagnose this?', 'How can I get a diagnosis for this?', 'What tests can be run?'], '16971359253593732': ['How to heal', 'How to treat', 'Treatment options', 'What sort of treatments are there?', 'What can I do against this?', 'What sort of treatments are there?'], '16971359253590098': ['Am I in a risk group?', 'Predisposition', 'What factors can increase my risk?', 'Who is especially at risk?', 'Which groups have a higher risk?', 'Are there factors that could increase my risk?'], '16971359253593708': ['What are the signs?', 'How does it show?', 'What are the symptoms?', 'What symptoms could I expect?', 'What are common symptoms of this condition?', 'What affects are caused by this?'], '16971359253598019': ['Nah', 'Nope', \"That's all, thanks\", 'Not at the moment', 'For now that answered everything, thanks', 'Not anymore, thanks'], '16971359999024616': ['Examination procedure', 'How to diagnose', 'Diagnosis criteria', 'What needs to be done to diagnose this?', 'How can I get a diagnosis for this?', 'What tests can be run?'], '16971359999021846': ['How to heal', 'How to treat', 'Treatment options', 'What sort of treatments are there?', 'What can I do against this?', 'What sort of treatments are there?'], '16971359999025078': ['Am I in a risk group?', 'Predisposition', 'What factors can increase my risk?', 'Who is especially at risk?', 'Which groups have a higher risk?', 'Are there factors that could increase my risk?'], '16971359999029611': ['What are the signs?', 'How does it show?', 'What are the symptoms?', 'What symptoms could I expect?', 'What are common symptoms of this condition?', 'What affects are caused by this?'], '16971359999021224': ['Nah', 'Nope', \"That's all, thanks\", 'Not at the moment', 'For now that answered everything, thanks', 'Not anymore, thanks'], '16971359999025606': ['When should I consult a professional?', 'Do I need a doctor?', 'At what point should I get a checkup?', 'How can I tell when I should got to a doctor?', 'At what point is it serious enough to call a hospital?', 'When should I stop trying to treat this at home?'], '16971366949410816': ['Examination procedure', 'How to diagnose', 'Diagnosis criteria', 'What needs to be done to diagnose this?', 'How can I get a diagnosis for this?', 'What tests can be run?'], '16971366949419997': ['How to heal', 'How to treat', 'Treatment options', 'What sort of treatments are there?', 'What can I do against this?', 'What sort of treatments are there?'], '16971366949412855': ['Am I in a risk group?', 'Predisposition', 'What factors can increase my risk?', 'Who is especially at risk?', 'Which groups have a higher risk?', 'Are there factors that could increase my risk?'], '16971366949411578': ['What are the signs?', 'How does it show?', 'What are the symptoms?', 'What symptoms could I expect?', 'What are common symptoms of this condition?', 'What affects are caused by this?'], '16971366949415803': ['Nah', 'Nope', \"That's all, thanks\", 'Not at the moment', 'For now that answered everything, thanks', 'Not anymore, thanks'], '16971366949411005': ['When should I consult a professional?', 'Do I need a doctor?', 'At what point should I get a checkup?', 'How can I tell when I should got to a doctor?', 'At what point is it serious enough to call a hospital?', 'When should I stop trying to treat this at home?'], '16971371153128652': ['How to heal', 'How to treat', 'Treatment options', 'What sort of treatments are there?', 'What can I do against this?', 'What sort of treatments are there?'], '16971371153125154': ['Am I in a risk group?', 'Predisposition', 'What factors can increase my risk?', 'Who is especially at risk?', 'Which groups have a higher risk?', 'Are there factors that could increase my risk?'], '16971371153121407': ['What are the signs?', 'How does it show?', 'What are the symptoms?', 'What symptoms could I expect?', 'What are common symptoms of this condition?', 'What affects are caused by this?'], '16971371153122026': ['Nah', 'Nope', \"That's all, thanks\", 'Not at the moment', 'For now that answered everything, thanks', 'Not anymore, thanks'], '16971371153123856': ['When should I consult a professional?', 'Do I need a doctor?', 'At what point should I get a checkup?', 'How can I tell when I should got to a doctor?', 'At what point is it serious enough to call a hospital?', 'When should I stop trying to treat this at home?'], '16971374034903467': ['How to heal', 'How to treat', 'Treatment options', 'What sort of treatments are there?', 'What can I do against this?', 'What sort of treatments are there?'], '16971374034905104': ['Am I in a risk group?', 'Predisposition', 'What factors can increase my risk?', 'Who is especially at risk?', 'Which groups have a higher risk?', 'Are there factors that could increase my risk?'], '16971374034909064': ['What are the signs?', 'How does it show?', 'What are the symptoms?', 'What symptoms could I expect?', 'What are common symptoms of this condition?', 'What affects are caused by this?'], '16971374034908613': ['Nah', 'Nope', \"That's all, thanks\", 'Not at the moment', 'For now that answered everything, thanks', 'Not anymore, thanks'], '16971374034904614': ['When should I consult a professional?', 'Do I need a doctor?', 'At what point should I get a checkup?', 'How can I tell when I should got to a doctor?', 'At what point is it serious enough to call a hospital?', 'When should I stop trying to treat this at home?'], '16971375892486062': ['Examination procedure', 'How to diagnose', 'Diagnosis criteria', 'What needs to be done to diagnose this?', 'How can I get a diagnosis for this?', 'What tests can be run?'], '16971378418704571': ['Bad chills', 'Coughing hurts my chest', 'It hurts when I take a deep breath', 'It hurts to breath', 'I keep coughing, but it hurts to cough', \"I have chills so bad I'm shaking\"], '16971378418705292': ['My throat hurts and I have a runny nose', 'I have muscle pain', 'My nose is runny and my muscles are sore', 'I have a bit of a cough', 'My nose is running and I keep needing to cough', 'I have a cough and sore muscles'], '16971378418707926': ['My stomach hurts', 'I feel nauseous', 'I have trouble farting', 'There is a sharp pain in my stomach', \"My stomach hurts really badly and I'm nauseous\", \"I'm nauseous, but I can't seem to pass gas\"], '16971378418703881': [\"I can't catch my breath\", \"I'm disoriented\", 'My breathing is too fast', \"My breathing is wrong and I'm disoriented\", \"Nothing makes sense and I can't breath right\", 'Something is wrong with my breathing'], '16971381936334924': ['How to heal', 'How to treat', 'Treatment options', 'What sort of treatments are there?', 'What can I do against this?', 'What sort of treatments are there?'], '16971381936338568': ['What are the signs?', 'How does it show?', 'What are the symptoms?', 'What symptoms could I expect?', 'What are common symptoms of this condition?', 'What affects are caused by this?'], '16971381936339266': ['Nah', 'Nope', \"That's all, thanks\", 'Not at the moment', 'For now that answered everything, thanks', 'Not anymore, thanks'], '16971381936338166': ['When should I consult a professional?', 'Do I need a doctor?', 'At what point should I get a checkup?', 'How can I tell when I should got to a doctor?', 'At what point is it serious enough to call a hospital?', 'When should I stop trying to treat this at home?'], '16971381936335457': ['Examination procedure', 'How to diagnose', 'Diagnosis criteria', 'What needs to be done to diagnose this?', 'How can I get a diagnosis for this?', 'What tests can be run?'], '16971384310216591': ['How to heal', 'How to treat', 'Treatment options', 'What sort of treatments are there?', 'What can I do against this?', 'What sort of treatments are there?'], '16971384310213986': ['Am I in a risk group?', 'Predisposition', 'What factors can increase my risk?', 'Who is especially at risk?', 'Which groups have a higher risk?', 'Are there factors that could increase my risk?'], '16971384310210792': ['What are the signs?', 'How does it show?', 'What are the symptoms?', 'What symptoms could I expect?', 'What are common symptoms of this condition?', 'What affects are caused by this?'], '16971384310212615': ['Nah', 'Nope', \"That's all, thanks\", 'Not at the moment', 'For now that answered everything, thanks', 'Not anymore, thanks'], '16971384310210825': ['Examination procedure', 'How to diagnose', 'Diagnosis criteria', 'What needs to be done to diagnose this?', 'How can I get a diagnosis for this?', 'What tests can be run?']}\n"
     ]
    }
   ],
   "source": [
    "\n",
    "with open(\"test_answers.json\", \"r\") as f:\n",
    "    data = json.load(f)\n",
    "\n",
    "print(data)"
   ]
  },
  {
   "cell_type": "code",
   "execution_count": 3,
   "metadata": {},
   "outputs": [
    {
     "name": "stdout",
     "output_type": "stream",
     "text": [
      "2.96\n",
      "2.96\n"
     ]
    }
   ],
   "source": [
    "train_split = {}\n",
    "test_split = {}\n",
    "\n",
    "min = 4\n",
    "max = 8\n",
    "\n",
    "for answer_key in data:\n",
    "    answers = data[answer_key]\n",
    "    random.shuffle(answers)\n",
    "    num_answers = len(answers)\n",
    "\n",
    "    test_split_idx = num_answers // 2\n",
    "\n",
    "    train_split[answer_key] = copy.deepcopy(answers[test_split_idx:])\n",
    "    test_split[answer_key] = copy.deepcopy(answers[:test_split_idx])\n",
    "\n",
    "from statistics import mean\n",
    "print(mean([len(train_split[answer_key]) for answer_key in train_split]))\n",
    "print(mean([len(test_split[answer_key]) for answer_key in test_split]))\n",
    "\n"
   ]
  },
  {
   "cell_type": "code",
   "execution_count": 4,
   "metadata": {},
   "outputs": [],
   "source": [
    "with open(\"train_answers.json\", \"w\") as f:\n",
    "    json.dump(train_split, f)\n",
    "\n",
    "with open(\"test_answers.json\", \"w\") as f:\n",
    "    json.dump(test_split, f)"
   ]
  },
  {
   "cell_type": "code",
   "execution_count": null,
   "metadata": {},
   "outputs": [],
   "source": []
  }
 ],
 "metadata": {
  "kernelspec": {
   "display_name": "cts_en",
   "language": "python",
   "name": "python3"
  },
  "language_info": {
   "codemirror_mode": {
    "name": "ipython",
    "version": 3
   },
   "file_extension": ".py",
   "mimetype": "text/x-python",
   "name": "python",
   "nbconvert_exporter": "python",
   "pygments_lexer": "ipython3",
   "version": "3.10.8"
  }
 },
 "nbformat": 4,
 "nbformat_minor": 2
}
