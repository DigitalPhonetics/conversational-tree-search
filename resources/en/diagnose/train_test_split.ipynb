{
 "cells": [
  {
   "cell_type": "code",
   "execution_count": 1,
   "metadata": {},
   "outputs": [],
   "source": [
    "import json\n",
    "import random\n",
    "import copy"
   ]
  },
  {
   "cell_type": "code",
   "execution_count": 21,
   "metadata": {},
   "outputs": [
    {
     "name": "stdout",
     "output_type": "stream",
     "text": [
      "99\n",
      "99\n"
     ]
    }
   ],
   "source": [
    "train_graph = {\"nodes\": []}\n",
    "test_graph = {\"nodes\": []}\n",
    "\n",
    "with open(\"full_graph.json\", \"r\") as f:\n",
    "    data = json.load(f)\n",
    "\n",
    "    train_graph['connections'] = data['connections']\n",
    "    train_graph['tags'] = data['tags']\n",
    "    test_graph['connections'] = data['connections']\n",
    "    test_graph['tags'] = data['tags']\n",
    "\n",
    "    for node in data['nodes']:\n",
    "        if len(node['data']['questions']) > 0:\n",
    "            questions = copy.deepcopy(node['data']['questions'])\n",
    "            random.shuffle(questions)\n",
    "            del node['data']['questions']\n",
    "\n",
    "            train_node = copy.deepcopy(node)\n",
    "            train_node['data']['questions'] = copy.deepcopy(questions[:3])\n",
    "            \n",
    "            test_node = copy.deepcopy(node)\n",
    "            test_node['data']['questions'] = copy.deepcopy(questions[3:])\n",
    "\n",
    "            assert len(train_node['data']['questions']) == 3\n",
    "            assert len(test_node['data']['questions']) >= 2\n",
    "\n",
    "\n",
    "            train_graph['nodes'].append(train_node)\n",
    "            test_graph['nodes'].append(test_node)\n",
    "        else:\n",
    "            train_node = copy.deepcopy(node)\n",
    "            test_node = copy.deepcopy(node)\n",
    "            train_graph['nodes'].append(train_node)\n",
    "            test_graph['nodes'].append(test_node)\n",
    "\n",
    "\n",
    "print(len(train_graph['nodes']))\n",
    "print(len(test_graph['nodes']))"
   ]
  },
  {
   "cell_type": "code",
   "execution_count": 23,
   "metadata": {},
   "outputs": [],
   "source": [
    "with open(\"train_graph.json\", \"w\") as f:\n",
    "    json.dump(train_graph, f)\n"
   ]
  },
  {
   "cell_type": "code",
   "execution_count": 24,
   "metadata": {},
   "outputs": [],
   "source": [
    "with open(\"test_graph.json\", \"w\") as f:\n",
    "    json.dump(test_graph, f)\n"
   ]
  },
  {
   "cell_type": "code",
   "execution_count": 4,
   "metadata": {},
   "outputs": [],
   "source": [
    "output = {}\n",
    "\n",
    "with open(\"full_graph.json\", \"r\") as f:\n",
    "    data = json.load(f)\n",
    "    for node in data['nodes']:\n",
    "        answers = node['data']['answers']\n",
    "        for answer in answers:\n",
    "            output[answer['id']] = [answer['raw_text']]\n",
    "    "
   ]
  },
  {
   "cell_type": "code",
   "execution_count": 5,
   "metadata": {},
   "outputs": [
    {
     "name": "stdout",
     "output_type": "stream",
     "text": [
      "{'16971354911194779': ['hair loss'], '16971354934554699': ['head lice'], '16971354920505872': ['dandruff'], '16971221777663728': ['fatigue'], '16971222007034704': ['fever'], '16971229519683377': ['Diagnosis'], '16971229586044452': ['Treatment'], '16971229656275759': ['Risk factors'], '16971232611600319': ['Symptoms'], '16971230504187963': ['No'], '16971234510821283': ['When should I see a doctor'], '16971237298219789': ['Treatment'], '16971237298211832': ['No'], '16971239507140126': ['Itchy skin or blisters'], '16971239514983027': ['weight gain, sever fatigue, or weakness'], '16971239523140289': ['None'], '16971246643519631': ['Diagnosis'], '16971246643513439': ['Treatment'], '16971246643514197': ['Risk factors'], '16971246643518059': ['Symptoms'], '16971246643510314': ['No'], '16971246643513672': ['When should I see a doctor'], '16971270171420849': ['Treatment'], '16971270171421586': ['Symptoms'], '16971270171428475': ['No'], '16971273905408111': ['Diagnosis'], '16971273905402652': ['Treatment'], '16971273905400965': ['Risk factors'], '16971273905407795': ['Symptoms'], '16971273905404107': ['No'], '16971273905404992': ['When should I see a doctor'], '16971279013583226': ['Insomnia and feelings of guilt or worthlessness'], '16971279165652383': ['weight gain, weakness, or hair loss'], '16971279712879362': ['pale skin and gums, shortness of breath, or unusual food cravings'], '16971280593724046': ['extreme fatigue, muscle aches, or joint pain'], '16971281904644018': ['Diagnosis'], '16971281904649971': ['Treatment'], '16971281904640905': ['Risk factors'], '16971281904647165': ['Symptoms'], '16971281904644915': ['No'], '16971314496469196': ['Diagnosis'], '16971314496466532': ['Treatment'], '16971314496463714': ['Risk factors'], '16971314496460674': ['Symptoms'], '16971314496468746': ['No'], '16971314657422055': ['When to see a doctor'], '16971314657424028': ['Treatment'], '16971314657429096': ['Risk factors'], '16971314657428702': ['Symptoms'], '16971314657429036': ['No'], '16971352514626322': ['Below 102 F'], '16971352522401118': ['103-104 F'], '16971353969249664': ['Chills that make you shake or chest pain when you cough or take a deep breath'], '16971356556297304': ['sore throat, muscle aches, cough, or runny nose'], '16971356759348826': ['sore throat, trouble swallowing, or swollen lymph nodes'], '16971357130623457': ['sneezing, runny nose, or tiredness'], '16971358948653863': ['viral pneumonia'], '16971359019109161': ['bacterial pneumonia'], '16971359253595421': ['Diagnosis'], '16971359253593732': ['Treatment'], '16971359253590098': ['Risk factors'], '16971359253593708': ['Symptoms'], '16971359253598019': ['No'], '16971359999024616': ['Diagnosis'], '16971359999021846': ['Treatment'], '16971359999025078': ['Risk factors'], '16971359999029611': ['Symptoms'], '16971359999021224': ['No'], '16971359999025606': ['When should I see a doctor'], '16971366949410816': ['Diagnosis'], '16971366949419997': ['Treatment'], '16971366949412855': ['Risk factors'], '16971366949411578': ['Symptoms'], '16971366949415803': ['No'], '16971366949411005': ['When should I see a doctor'], '16971371153128652': ['Treatment'], '16971371153125154': ['Risk factors'], '16971371153121407': ['Symptoms'], '16971371153122026': ['No'], '16971371153123856': ['When should I see a doctor'], '16971374034903467': ['Treatment'], '16971374034905104': ['Risk factors'], '16971374034909064': ['Symptoms'], '16971374034908613': ['No'], '16971374034904614': ['When should I see a doctor'], '16971375892486062': ['diagnosis'], '16971378418704571': ['Chills that make you shake or chest pain when you cough or take a deep breath'], '16971378418705292': ['sore throat, muscle aches, cough, or runny nose'], '16971378418707926': ['abdominal pain, nausea, or the inability to pass gas'], '16971378418703881': ['rapid breathing or confusion'], '16971381936334924': ['Treatment'], '16971381936338568': ['Symptoms'], '16971381936339266': ['No'], '16971381936338166': ['When should I see a doctor'], '16971381936335457': ['diagnosis'], '16971384310216591': ['Treatment'], '16971384310213986': ['Risk factors'], '16971384310210792': ['Symptoms'], '16971384310212615': ['No'], '16971384310210825': ['diagnosis']}\n"
     ]
    }
   ],
   "source": [
    "print(output)"
   ]
  },
  {
   "cell_type": "code",
   "execution_count": 6,
   "metadata": {},
   "outputs": [],
   "source": [
    "with open(\"train_answers.json\", \"w\") as f:\n",
    "    json.dump(output, f)"
   ]
  },
  {
   "cell_type": "code",
   "execution_count": null,
   "metadata": {},
   "outputs": [],
   "source": []
  }
 ],
 "metadata": {
  "kernelspec": {
   "display_name": "cts_en",
   "language": "python",
   "name": "python3"
  },
  "language_info": {
   "codemirror_mode": {
    "name": "ipython",
    "version": 3
   },
   "file_extension": ".py",
   "mimetype": "text/x-python",
   "name": "python",
   "nbconvert_exporter": "python",
   "pygments_lexer": "ipython3",
   "version": "3.10.8"
  }
 },
 "nbformat": 4,
 "nbformat_minor": 2
}
