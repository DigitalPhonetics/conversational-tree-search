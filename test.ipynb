{
 "cells": [
  {
   "cell_type": "code",
   "execution_count": 1,
   "metadata": {},
   "outputs": [],
   "source": [
    "from data.dataset import GraphDataset, DataAugmentationLevel\n",
    "from environment.free import FreeEnvironment\n",
    "from environment.guided import GuidedEnvironment\n",
    "from data.parsers.parserValueProvider import RealValueBackend\n",
    "from data.parsers.answerTemplateParser import AnswerTemplateParser\n",
    "from data.parsers.systemTemplateParser import SystemTemplateParser\n",
    "from data.parsers.logicParser import LogicTemplateParser\n",
    "from utils.utils import AutoSkipMode"
   ]
  },
  {
   "cell_type": "code",
   "execution_count": 2,
   "metadata": {},
   "outputs": [],
   "source": [
    "import os\n",
    "import torch\n",
    "os.environ[\"CUDA_VISIBLE_DEVICES\"] = \"\""
   ]
  },
  {
   "cell_type": "code",
   "execution_count": 3,
   "metadata": {},
   "outputs": [
    {
     "name": "stdout",
     "output_type": "stream",
     "text": [
      "- Loading questions from  resources/en/generated/train_questions_v2.json\n",
      "- only artificial answers\n",
      "Loading augmentation answers from resources/en/generated/train_answers.json\n",
      "===== Dataset Statistics =====\n",
      "- files:  resources/en/test_graph.json resources/en/test_answers.json\n",
      "- synonyms: True\n",
      "- depth: 20  - degree: 13\n",
      "- answers: 803\n",
      "- questions: 800\n",
      "- loaded original data: False\n",
      "- loaded generated data: True\n"
     ]
    }
   ],
   "source": [
    "data = GraphDataset('resources/en/test_graph.json', 'resources/en/test_answers.json', use_answer_synonyms=True, augmentation=DataAugmentationLevel.ARTIFICIAL_ONLY, augmentation_version=2)"
   ]
  },
  {
   "cell_type": "code",
   "execution_count": 4,
   "metadata": {},
   "outputs": [],
   "source": [
    "answerParser = AnswerTemplateParser()\n",
    "logicParser = LogicTemplateParser()\n",
    "sysParser = SystemTemplateParser()\n",
    "valueBackend = RealValueBackend(a1_laender=data.a1_countries, data=data.hotel_costs)"
   ]
  },
  {
   "cell_type": "code",
   "execution_count": 5,
   "metadata": {},
   "outputs": [],
   "source": [
    "def print_node(env):\n",
    "    print(env.current_node.key, env.current_node.node_type)\n",
    "    print(env.current_node.text)\n",
    "    for a in env.current_node.answers:\n",
    "        print(a.index, a.text)"
   ]
  },
  {
   "cell_type": "code",
   "execution_count": null,
   "metadata": {},
   "outputs": [],
   "source": [
    "free = FreeEnvironment(data, \"[SYS]\", \"USR\", \"SEP\", 50, 100, 3, True, True, answerParser, sysParser, logicParser, value_backend, AutoSkipMode.NONE)"
   ]
  },
  {
   "cell_type": "code",
   "execution_count": 23,
   "metadata": {},
   "outputs": [],
   "source": [
    "guided = GuidedEnvironment(data,  \"[SYS]\", \"USR\", \"SEP\", 50, 100, 3, True, False, answerParser, sysParser, logicParser, valueBackend, AutoSkipMode.NONE)"
   ]
  },
  {
   "cell_type": "code",
   "execution_count": null,
   "metadata": {},
   "outputs": [],
   "source": [
    "obs1 = free.reset(0, -1, None)\n",
    "print_node(free)\n",
    "print(data.nodes_by_key[free.goal.goal_node_key].text)"
   ]
  },
  {
   "cell_type": "code",
   "execution_count": null,
   "metadata": {},
   "outputs": [],
   "source": [
    "obs2, reward, done = free.step(1)\n",
    "print_node(free)\n",
    "print(reward, done)\n",
    "print(free.last_valid_skip_transition_idx)"
   ]
  },
  {
   "cell_type": "code",
   "execution_count": null,
   "metadata": {},
   "outputs": [],
   "source": [
    "free.episode_log"
   ]
  },
  {
   "cell_type": "code",
   "execution_count": 7,
   "metadata": {},
   "outputs": [],
   "source": [
    "from environment.goal import UserGoal"
   ]
  },
  {
   "cell_type": "code",
   "execution_count": 27,
   "metadata": {},
   "outputs": [
    {
     "name": "stdout",
     "output_type": "stream",
     "text": [
      "Are you planning to extend your trip with private travel?\n"
     ]
    },
    {
     "data": {
      "text/plain": [
       "GoalPath(visited_nodes=[DialogNode.START(key: 0, answers: 0, questions: 0)\n",
       "        - connected_node: 16348058621438633\n",
       "        - text: START\n",
       "        , DialogNode.QUESTION(key: 16348058621438633, answers: 6, questions: 0)\n",
       "        - connected_node: None\n",
       "        - text: What topic do you have questions about? You can either click on an answer from the suggested topics \n",
       "        , DialogNode.VARIABLE(key: 16370487978253782, answers: 1, questions: 0)\n",
       "        - connected_node: None\n",
       "        - text: How long will your research semester last?  \n",
       "        , DialogNode.LOGIC(key: 16460422182910140, answers: 2, questions: 0)\n",
       "        - connected_node: None\n",
       "        - text: {{TRIP_LENGTH\n",
       "        , DialogNode.QUESTION(key: 16353297472197738, answers: 3, questions: 0)\n",
       "        - connected_node: None\n",
       "        - text: Is this as part of a reallocation?  \n",
       "        , DialogNode.INFO(key: 16370501863636503, answers: 0, questions: 10)\n",
       "        - connected_node: 16353303012891903\n",
       "        - text: As there has been no reallocation, your research semester counts as a business trip.\n",
       "        , DialogNode.QUESTION(key: 16353303012891903, answers: 2, questions: 0)\n",
       "        - connected_node: None\n",
       "        - text: Are you traveling alone or with your family?\n",
       "        , DialogNode.INFO(key: 16370483570980906, answers: 0, questions: 10)\n",
       "        - connected_node: 16363752591243585\n",
       "        - text: Business traveler can receive reimbursement for business related expenses by submitting the followin\n",
       "        , DialogNode.VARIABLE(key: 16363752591243585, answers: 1, questions: 0)\n",
       "        - connected_node: None\n",
       "        - text: What country are you traveling to?\n",
       "        , DialogNode.VARIABLE(key: 16363753123487784, answers: 1, questions: 0)\n",
       "        - connected_node: None\n",
       "        - text: What city are you traveling to?\n",
       "        , DialogNode.LOGIC(key: 16391575204698838, answers: 2, questions: 0)\n",
       "        - connected_node: None\n",
       "        - text: {{COUNTRY\n",
       "        , DialogNode.INFO(key: 16389695846089108, answers: 0, questions: 10)\n",
       "        - connected_node: 16363753477187975\n",
       "        - text: For all  business trips (even for short trips or ones lasting only a single day) outside the country\n",
       "        , DialogNode.INFO(key: 16363753477187975, answers: 0, questions: 10)\n",
       "        - connected_node: 16363754346769013\n",
       "        - text: Please check the current COVID-19 travel warnings travel restrictions from the foreign ministry and \n",
       "        , DialogNode.INFO(key: 16363754346769013, answers: 0, questions: 10)\n",
       "        - connected_node: 16348093549280346\n",
       "        - text: COVID-19: Business trips should be reduced to an absolute minimum and are only allowed when they are\n",
       "        , DialogNode.VARIABLE(key: 16348093549280346, answers: 1, questions: 0)\n",
       "        - connected_node: None\n",
       "        - text: Are you planning to extend your trip with private travel?\n",
       "        , DialogNode.LOGIC(key: 16378316272591567, answers: 2, questions: 0)\n",
       "        - connected_node: None\n",
       "        - text: {{PRIVATE_EXTENSION\n",
       "        , DialogNode.INFO(key: 16363754793760356, answers: 0, questions: 10)\n",
       "        - connected_node: 16348097487038694\n",
       "        - text: A private extension to a trip must remain in proportion to the length of business-related travel. Bu\n",
       "        , DialogNode.QUESTION(key: 16348097487038694, answers: 5, questions: 0)\n",
       "        - connected_node: None\n",
       "        - text: Which topic do you want to know more about?\n",
       "        , DialogNode.QUESTION(key: 16348100109577394, answers: 6, questions: 0)\n",
       "        - connected_node: None\n",
       "        - text: What type of transportation would you like?\n",
       "        , DialogNode.VARIABLE(key: 16478798353898107, answers: 1, questions: 0)\n",
       "        - connected_node: None\n",
       "        - text: Are you planning to extend your trip with private travel?\n",
       "        ], visited_ids={0, 16363752591243585, 16363753477187975, 16378316272591567, 16389695846089108, 16370487978253782, 16370501863636503, 16391575204698838, 16348093549280346, 16363754793760356, 16348097487038694, 16363753123487784, 16348058621438633, 16370483570980906, 16353297472197738, 16348100109577394, 16363754346769013, 16478798353898107, 16460422182910140, 16353303012891903}, current_node=DialogNode.VARIABLE(key: 16478798353898107, answers: 1, questions: 0)\n",
       "        - connected_node: None\n",
       "        - text: Are you planning to extend your trip with private travel?\n",
       "        , chosen_answers={16348058621438633: Answer(key=16348060117936606, index=1, connected_node=DialogNode.VARIABLE(key: 16370487978253782, answers: 1, questions: 0)\n",
       "        - connected_node: None\n",
       "        - text: How long will your research semester last?  \n",
       "        , text='Research semester', parent=DialogNode.QUESTION(key: 16348058621438633, answers: 6, questions: 0)\n",
       "        - connected_node: None\n",
       "        - text: What topic do you have questions about? You can either click on an answer from the suggested topics \n",
       "        ), 16370487978253782: Answer(key=16365604524960732, index=0, connected_node=DialogNode.LOGIC(key: 16460422182910140, answers: 2, questions: 0)\n",
       "        - connected_node: None\n",
       "        - text: {{TRIP_LENGTH\n",
       "        , text='{{TRIP_LENGTH=TIMESPAN}}', parent=DialogNode.VARIABLE(key: 16370487978253782, answers: 1, questions: 0)\n",
       "        - connected_node: None\n",
       "        - text: How long will your research semester last?  \n",
       "        ), 16460422182910140: Answer(key=16460422792506028, index=0, connected_node=DialogNode.QUESTION(key: 16353297472197738, answers: 3, questions: 0)\n",
       "        - connected_node: None\n",
       "        - text: Is this as part of a reallocation?  \n",
       "        , text='== DEFAULT}}', parent=DialogNode.LOGIC(key: 16460422182910140, answers: 2, questions: 0)\n",
       "        - connected_node: None\n",
       "        - text: {{TRIP_LENGTH\n",
       "        ), 16353297472197738: Answer(key=16370629633128792, index=2, connected_node=DialogNode.INFO(key: 16370501863636503, answers: 0, questions: 10)\n",
       "        - connected_node: 16353303012891903\n",
       "        - text: As there has been no reallocation, your research semester counts as a business trip.\n",
       "        , text='No', parent=DialogNode.QUESTION(key: 16353297472197738, answers: 3, questions: 0)\n",
       "        - connected_node: None\n",
       "        - text: Is this as part of a reallocation?  \n",
       "        ), 16353303012891903: Answer(key=16353304327772731, index=0, connected_node=DialogNode.INFO(key: 16370483570980906, answers: 0, questions: 10)\n",
       "        - connected_node: 16363752591243585\n",
       "        - text: Business traveler can receive reimbursement for business related expenses by submitting the followin\n",
       "        , text='Alone', parent=DialogNode.QUESTION(key: 16353303012891903, answers: 2, questions: 0)\n",
       "        - connected_node: None\n",
       "        - text: Are you traveling alone or with your family?\n",
       "        ), 16363752591243585: Answer(key=16363752591246837, index=0, connected_node=DialogNode.VARIABLE(key: 16363753123487784, answers: 1, questions: 0)\n",
       "        - connected_node: None\n",
       "        - text: What city are you traveling to?\n",
       "        , text='{{COUNTRY=LOCATION}}', parent=DialogNode.VARIABLE(key: 16363752591243585, answers: 1, questions: 0)\n",
       "        - connected_node: None\n",
       "        - text: What country are you traveling to?\n",
       "        ), 16363753123487784: Answer(key=16363753123480094, index=0, connected_node=DialogNode.LOGIC(key: 16391575204698838, answers: 2, questions: 0)\n",
       "        - connected_node: None\n",
       "        - text: {{COUNTRY\n",
       "        , text='{{CITY=LOCATION}}', parent=DialogNode.VARIABLE(key: 16363753123487784, answers: 1, questions: 0)\n",
       "        - connected_node: None\n",
       "        - text: What city are you traveling to?\n",
       "        ), 16391575204698838: Answer(key=16391575622682788, index=0, connected_node=DialogNode.INFO(key: 16389695846089108, answers: 0, questions: 10)\n",
       "        - connected_node: 16363753477187975\n",
       "        - text: For all  business trips (even for short trips or ones lasting only a single day) outside the country\n",
       "        , text='== DEFAULT}}', parent=DialogNode.LOGIC(key: 16391575204698838, answers: 2, questions: 0)\n",
       "        - connected_node: None\n",
       "        - text: {{COUNTRY\n",
       "        ), 16348093549280346: Answer(key=16378315927393515, index=0, connected_node=DialogNode.LOGIC(key: 16378316272591567, answers: 2, questions: 0)\n",
       "        - connected_node: None\n",
       "        - text: {{PRIVATE_EXTENSION\n",
       "        , text='{{PRIVATE_EXTENSION=BOOLEAN}}', parent=DialogNode.VARIABLE(key: 16348093549280346, answers: 1, questions: 0)\n",
       "        - connected_node: None\n",
       "        - text: Are you planning to extend your trip with private travel?\n",
       "        ), 16378316272591567: Answer(key=16378316438878099, index=0, connected_node=DialogNode.INFO(key: 16363754793760356, answers: 0, questions: 10)\n",
       "        - connected_node: 16348097487038694\n",
       "        - text: A private extension to a trip must remain in proportion to the length of business-related travel. Bu\n",
       "        , text='== TRUE}}', parent=DialogNode.LOGIC(key: 16378316272591567, answers: 2, questions: 0)\n",
       "        - connected_node: None\n",
       "        - text: {{PRIVATE_EXTENSION\n",
       "        ), 16348097487038694: Answer(key=16348097687835256, index=1, connected_node=DialogNode.QUESTION(key: 16348100109577394, answers: 6, questions: 0)\n",
       "        - connected_node: None\n",
       "        - text: What type of transportation would you like?\n",
       "        , text='Transportation', parent=DialogNode.QUESTION(key: 16348097487038694, answers: 5, questions: 0)\n",
       "        - connected_node: None\n",
       "        - text: Which topic do you want to know more about?\n",
       "        ), 16348100109577394: Answer(key=16351687978524495, index=5, connected_node=DialogNode.VARIABLE(key: 16478798353898107, answers: 1, questions: 0)\n",
       "        - connected_node: None\n",
       "        - text: Are you planning to extend your trip with private travel?\n",
       "        , text='Flight', parent=DialogNode.QUESTION(key: 16348100109577394, answers: 6, questions: 0)\n",
       "        - connected_node: None\n",
       "        - text: What type of transportation would you like?\n",
       "        )}, constraints={'TRIP_LENGTH': <environment.goal.VariableValue object at 0x7fb6dbc84ac0>, 'COUNTRY': <environment.goal.VariableValue object at 0x7fb6dbc855d0>, 'CITY': <environment.goal.VariableValue object at 0x7fb6dbccd0f0>, 'PRIVATE_EXTENSION': <environment.goal.VariableValue object at 0x7fb6dbccc070>})"
      ]
     },
     "execution_count": 27,
     "metadata": {},
     "output_type": "execute_result"
    }
   ],
   "source": [
    "goal_node = data.nodes_by_key[16478798353898107]\n",
    "print(goal_node.text)\n",
    "goal_guided = UserGoal(data=data, start_node=data.start_node, goal_node=goal_node, initial_user_utterance=\"Investigation term\",\n",
    "                        answer_parser=answerParser,system_parser=sysParser, value_backend=valueBackend )\n",
    "goal_guided.path"
   ]
  },
  {
   "cell_type": "code",
   "execution_count": 28,
   "metadata": {},
   "outputs": [],
   "source": [
    "obs1 = guided.reset(0,-1,None)\n",
    "guided.goal = goal_guided"
   ]
  },
  {
   "cell_type": "code",
   "execution_count": 30,
   "metadata": {},
   "outputs": [
    {
     "name": "stdout",
     "output_type": "stream",
     "text": [
      "16348058621438633 NodeType.QUESTION\n",
      "What topic do you have questions about? You can either click on an answer from the suggested topics or enter your own text.\n",
      "0 Book a trip\n",
      "1 Research semester\n",
      "2 Travel Risk Management\n",
      "3 Problem/emergency during a business trip\n",
      "4 Forms, deadlines, and procedures\n",
      "5 cancel a trip\n"
     ]
    }
   ],
   "source": [
    "print_node(guided)"
   ]
  },
  {
   "cell_type": "code",
   "execution_count": 31,
   "metadata": {},
   "outputs": [
    {
     "name": "stdout",
     "output_type": "stream",
     "text": [
      "0.03 False\n",
      "0\n"
     ]
    }
   ],
   "source": [
    "obs2, reward, done = guided.step(2)\n",
    "print(reward, done)\n",
    "print(guided.last_valid_skip_transition_idx)"
   ]
  },
  {
   "cell_type": "code",
   "execution_count": 32,
   "metadata": {},
   "outputs": [
    {
     "name": "stdout",
     "output_type": "stream",
     "text": [
      "16370487978253782 NodeType.VARIABLE\n",
      "How long will your research semester last?  \n",
      "0 {{TRIP_LENGTH=TIMESPAN}}\n"
     ]
    }
   ],
   "source": [
    "print_node(guided)"
   ]
  },
  {
   "cell_type": "code",
   "execution_count": 33,
   "metadata": {},
   "outputs": [
    {
     "name": "stdout",
     "output_type": "stream",
     "text": [
      "16370487978253782 NodeType.VARIABLE\n",
      "How long will your research semester last?  \n",
      "0 {{TRIP_LENGTH=TIMESPAN}}\n",
      "0.01 False\n",
      "0\n"
     ]
    }
   ],
   "source": [
    "\n",
    "obs2, reward, done = guided.step(0)\n",
    "print_node(guided)\n",
    "print(reward, done)\n",
    "print(guided.last_valid_skip_transition_idx)"
   ]
  },
  {
   "cell_type": "code",
   "execution_count": 34,
   "metadata": {},
   "outputs": [
    {
     "name": "stdout",
     "output_type": "stream",
     "text": [
      "4642\n"
     ]
    }
   ],
   "source": [
    "print(guided.current_user_utterance)"
   ]
  },
  {
   "attachments": {},
   "cell_type": "markdown",
   "metadata": {},
   "source": []
  },
  {
   "cell_type": "code",
   "execution_count": 36,
   "metadata": {},
   "outputs": [
    {
     "name": "stdout",
     "output_type": "stream",
     "text": [
      "16460422136134149 NodeType.INFO\n",
      "If you are traveling for more than 4 weeks and need help finding accommodations, please contact the business travel department.\n",
      "0.03 False\n",
      "0\n"
     ]
    }
   ],
   "source": [
    "obs2, reward, done = guided.step(1)\n",
    "print_node(guided)\n",
    "print(reward, done)\n",
    "print(guided.last_valid_skip_transition_idx)"
   ]
  },
  {
   "cell_type": "code",
   "execution_count": 37,
   "metadata": {},
   "outputs": [
    {
     "name": "stdout",
     "output_type": "stream",
     "text": [
      "16460422136134149 NodeType.INFO\n",
      "If you are traveling for more than 4 weeks and need help finding accommodations, please contact the business travel department.\n",
      "0.01 False\n",
      "0\n"
     ]
    }
   ],
   "source": [
    "obs2, reward, done = guided.step(0)\n",
    "print_node(guided)\n",
    "print(reward, done)\n",
    "print(guided.last_valid_skip_transition_idx)"
   ]
  },
  {
   "cell_type": "code",
   "execution_count": 40,
   "metadata": {},
   "outputs": [
    {
     "name": "stdout",
     "output_type": "stream",
     "text": [
      "16353297472197738 NodeType.QUESTION\n",
      "Is this as part of a reallocation?  \n",
      "0 What is a reallocation/delegation?\n",
      "1 Yes\n",
      "2 No\n",
      "0.03 False\n",
      "0\n"
     ]
    }
   ],
   "source": [
    "obs2, reward, done = guided.step(1)\n",
    "print_node(guided)\n",
    "print(reward, done)\n",
    "print(guided.last_valid_skip_transition_idx)"
   ]
  },
  {
   "cell_type": "code",
   "execution_count": 46,
   "metadata": {},
   "outputs": [
    {
     "name": "stdout",
     "output_type": "stream",
     "text": [
      "16353297472197738 NodeType.QUESTION\n",
      "Is this as part of a reallocation?  \n",
      "0 What is a reallocation/delegation?\n",
      "1 Yes\n",
      "2 No\n",
      "0.01 False\n",
      "0\n"
     ]
    }
   ],
   "source": [
    "obs2, reward, done = guided.step(0)\n",
    "print_node(guided)\n",
    "print(reward, done)\n",
    "print(guided.last_valid_skip_transition_idx)"
   ]
  },
  {
   "cell_type": "code",
   "execution_count": 47,
   "metadata": {},
   "outputs": [
    {
     "name": "stdout",
     "output_type": "stream",
     "text": [
      "16370501863636503 NodeType.INFO\n",
      "As there has been no reallocation, your research semester counts as a business trip.\n",
      "0.03 False\n",
      "0\n"
     ]
    }
   ],
   "source": [
    "obs2, reward, done = guided.step(3)\n",
    "print_node(guided)\n",
    "print(reward, done)\n",
    "print(guided.last_valid_skip_transition_idx)"
   ]
  },
  {
   "cell_type": "code",
   "execution_count": 48,
   "metadata": {},
   "outputs": [
    {
     "name": "stdout",
     "output_type": "stream",
     "text": [
      "16370501863636503 NodeType.INFO\n",
      "As there has been no reallocation, your research semester counts as a business trip.\n",
      "0.01 False\n",
      "0\n"
     ]
    }
   ],
   "source": [
    "obs2, reward, done = guided.step(0)\n",
    "print_node(guided)\n",
    "print(reward, done)\n",
    "print(guided.last_valid_skip_transition_idx)"
   ]
  },
  {
   "cell_type": "code",
   "execution_count": 49,
   "metadata": {},
   "outputs": [
    {
     "name": "stdout",
     "output_type": "stream",
     "text": [
      "16353303012891903 NodeType.QUESTION\n",
      "Are you traveling alone or with your family?\n",
      "0 Alone\n",
      "1 With family\n",
      "0.03 False\n",
      "0\n"
     ]
    }
   ],
   "source": [
    "obs2, reward, done = guided.step(1)\n",
    "print_node(guided)\n",
    "print(reward, done)\n",
    "print(guided.last_valid_skip_transition_idx)"
   ]
  },
  {
   "cell_type": "code",
   "execution_count": 50,
   "metadata": {},
   "outputs": [
    {
     "name": "stdout",
     "output_type": "stream",
     "text": [
      "16353303012891903 NodeType.QUESTION\n",
      "Are you traveling alone or with your family?\n",
      "0 Alone\n",
      "1 With family\n",
      "0.01 False\n",
      "0\n"
     ]
    }
   ],
   "source": [
    "obs2, reward, done = guided.step(0)\n",
    "print_node(guided)\n",
    "print(reward, done)\n",
    "print(guided.last_valid_skip_transition_idx)"
   ]
  },
  {
   "cell_type": "code",
   "execution_count": 51,
   "metadata": {},
   "outputs": [
    {
     "name": "stdout",
     "output_type": "stream",
     "text": [
      "16370483570980906 NodeType.INFO\n",
      "Business traveler can receive reimbursement for business related expenses by submitting the following form.\n",
      "0.03 False\n",
      "0\n"
     ]
    }
   ],
   "source": [
    "obs2, reward, done = guided.step(1)\n",
    "print_node(guided)\n",
    "print(reward, done)\n",
    "print(guided.last_valid_skip_transition_idx)"
   ]
  },
  {
   "cell_type": "code",
   "execution_count": 52,
   "metadata": {},
   "outputs": [
    {
     "name": "stdout",
     "output_type": "stream",
     "text": [
      "16370483570980906 NodeType.INFO\n",
      "Business traveler can receive reimbursement for business related expenses by submitting the following form.\n",
      "0.01 False\n",
      "0\n"
     ]
    }
   ],
   "source": [
    "obs2, reward, done = guided.step(0)\n",
    "print_node(guided)\n",
    "print(reward, done)\n",
    "print(guided.last_valid_skip_transition_idx)"
   ]
  },
  {
   "cell_type": "code",
   "execution_count": 53,
   "metadata": {},
   "outputs": [
    {
     "name": "stdout",
     "output_type": "stream",
     "text": [
      "21142169-0$ MODE: GUIDED\n",
      "21142169-1$ ======== RESET =========\n",
      "21142169-1$ GOAL: 16460422136134149 If you are traveling for more than 4 weeks and need help finding accommodations, please contact the \n",
      "21142169-1$ CONSTRAINTS:\n",
      "21142169-1$ 0) Variable TRIP_LENGTH' (TIMESPAN), constraints: \n",
      " - > 672.0\n",
      "21142169-1$ INITIAL UTTERANCE: Experimental term\n",
      "21142169-1$ -> SKIPPED TO CORRECT NODE\n",
      "21142169-1$ -> TURN REWARD: 3.0\n",
      "21142169-1$ -> USER UTTERANCE: \n",
      "21142169-1$ TO NODE: userInputNode - 16370487978253782 - How long will your research semester last?  \n",
      "21142169-1$ -> VAR NAME: TRIP_LENGTH, VALUE: 4642\n",
      "21142169-1$ -> VAR NAME: TRIP_LENGTH, VALUE: 4642\n",
      "21142169-1$ -> USER UTTERANCE: 4642\n",
      "21142169-1$ TO NODE: userInputNode - 16370487978253782 - How long will your research semester last?  \n",
      "21142169-1$ -> SKIPPED TO CORRECT NODE\n",
      "21142169-1$ -> AUTO SKIP LOGIC NODE: SUCCESS 16460422136134149\n",
      "21142169-1$ -> TURN REWARD: 3.0\n",
      "21142169-1$ -> USER UTTERANCE: \n",
      "21142169-1$ TO NODE: infoNode - 16460422136134149 - If you are traveling for more than 4 weeks and need help finding accommodations, please contact the \n",
      "21142169-1$ -> USER UTTERANCE: \n",
      "21142169-1$ TO NODE: infoNode - 16460422136134149 - If you are traveling for more than 4 weeks and need help finding accommodations, please contact the \n",
      "21142169-1$ -> SKIPPED TO CORRECT NODE\n",
      "21142169-1$ -> TURN REWARD: 3.0\n",
      "21142169-1$ -> USER UTTERANCE: \n",
      "21142169-1$ TO NODE: userResponseNode - 16353297472197738 - Is this as part of a reallocation?  \n",
      "21142169-1$ -> USER UTTERANCE: Pass\n",
      "21142169-1$ TO NODE: userResponseNode - 16353297472197738 - Is this as part of a reallocation?  \n",
      "21142169-1$ -> SKIPPED TO CORRECT NODE\n",
      "21142169-1$ -> TURN REWARD: 3.0\n",
      "21142169-1$ -> USER UTTERANCE: \n",
      "21142169-1$ TO NODE: infoNode - 16370501863636503 - As there has been no reallocation, your research semester counts as a business trip.\n",
      "21142169-1$ -> USER UTTERANCE: \n",
      "21142169-1$ TO NODE: infoNode - 16370501863636503 - As there has been no reallocation, your research semester counts as a business trip.\n",
      "21142169-1$ -> SKIPPED TO CORRECT NODE\n",
      "21142169-1$ -> TURN REWARD: 3.0\n",
      "21142169-1$ -> USER UTTERANCE: \n",
      "21142169-1$ TO NODE: userResponseNode - 16353303012891903 - Are you traveling alone or with your family?\n",
      "21142169-1$ -> USER UTTERANCE: Isolated\n",
      "21142169-1$ TO NODE: userResponseNode - 16353303012891903 - Are you traveling alone or with your family?\n",
      "21142169-1$ -> SKIPPED TO CORRECT NODE\n",
      "21142169-1$ -> TURN REWARD: 3.0\n",
      "21142169-1$ -> USER UTTERANCE: \n",
      "21142169-1$ TO NODE: infoNode - 16370483570980906 - Business traveler can receive reimbursement for business related expenses by submitting the followin\n",
      "21142169-1$ -> USER UTTERANCE: \n",
      "21142169-1$ TO NODE: infoNode - 16370483570980906 - Business traveler can receive reimbursement for business related expenses by submitting the followin\n"
     ]
    }
   ],
   "source": [
    "for line in guided.episode_log:\n",
    "    print(line)"
   ]
  },
  {
   "cell_type": "code",
   "execution_count": null,
   "metadata": {},
   "outputs": [],
   "source": []
  }
 ],
 "metadata": {
  "kernelspec": {
   "display_name": ".env",
   "language": "python",
   "name": "python3"
  },
  "language_info": {
   "codemirror_mode": {
    "name": "ipython",
    "version": 3
   },
   "file_extension": ".py",
   "mimetype": "text/x-python",
   "name": "python",
   "nbconvert_exporter": "python",
   "pygments_lexer": "ipython3",
   "version": "3.10.8"
  },
  "orig_nbformat": 4
 },
 "nbformat": 4,
 "nbformat_minor": 2
}
