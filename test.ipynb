{
 "cells": [
  {
   "cell_type": "code",
   "execution_count": 1,
   "metadata": {},
   "outputs": [
    {
     "name": "stderr",
     "output_type": "stream",
     "text": [
      "/fs/scratch/users/vaethdk/adviser_reisekosten/.env/lib64/python3.10/site-packages/tqdm/auto.py:21: TqdmWarning: IProgress not found. Please update jupyter and ipywidgets. See https://ipywidgets.readthedocs.io/en/stable/user_install.html\n",
      "  from .autonotebook import tqdm as notebook_tqdm\n"
     ]
    }
   ],
   "source": [
    "from environment.base import RealUserEnvironment, _FreeEnvironment, _GuidedEnvironment\n",
    "from data.dataset import GraphDataset\n",
    "from chatbot.adviser.app.answerTemplateParser import AnswerTemplateParser\n",
    "from chatbot.adviser.app.logicParser import LogicTemplateParser\n",
    "from chatbot.adviser.app.systemTemplateParser import SystemTemplateParser\n",
    "from chatbot.adviser.app.parserValueProvider import RealValueBackend\n",
    "from chatbot.adviser.app.rl.utils import AutoSkipMode "
   ]
  },
  {
   "cell_type": "code",
   "execution_count": 2,
   "metadata": {},
   "outputs": [
    {
     "name": "stdout",
     "output_type": "stream",
     "text": [
      "===== Dataset Statistics =====\n",
      "- files:  resources/test_graph.json resources/test_answers.json\n",
      "- synonyms: True\n",
      "- depth: 32  - degree: 13\n",
      "- answers: 162\n",
      "- questions: 173\n"
     ]
    }
   ],
   "source": [
    "graph = GraphDataset(graph_path='resources/test_graph.json', answer_path='resources/test_answers.json', use_answer_synonyms=True)"
   ]
  },
  {
   "cell_type": "code",
   "execution_count": 3,
   "metadata": {},
   "outputs": [],
   "source": [
    "answer_parser = AnswerTemplateParser()\n",
    "logic_parser = LogicTemplateParser()\n",
    "system_parser = SystemTemplateParser()\n",
    "value_backend = RealValueBackend(graph.a1_countries)"
   ]
  },
  {
   "cell_type": "code",
   "execution_count": 4,
   "metadata": {},
   "outputs": [],
   "source": [
    "env = _FreeEnvironment(\n",
    "    env_id=1,\n",
    "    dataset=graph,\n",
    "    sys_token=\"[SYS]\", usr_token=\"[USR]\", sep_token=\"\",\n",
    "    max_steps=30, max_reward=30, user_patience=3,\n",
    "    answer_parser=answer_parser, system_parser=system_parser, logic_parser=logic_parser,\n",
    "    value_backend=value_backend,\n",
    "    auto_skip=AutoSkipMode.NONE\n",
    ")"
   ]
  },
  {
   "cell_type": "code",
   "execution_count": 5,
   "metadata": {},
   "outputs": [],
   "source": [
    "env.reset(0)"
   ]
  },
  {
   "cell_type": "code",
   "execution_count": 6,
   "metadata": {},
   "outputs": [
    {
     "data": {
      "text/plain": [
       "'Buchung 1. Klasse ist möglich ab einer Entfernung von mehr als 100 km.'"
      ]
     },
     "execution_count": 6,
     "metadata": {},
     "output_type": "execute_result"
    }
   ],
   "source": [
    "env.goal_node.text"
   ]
  },
  {
   "cell_type": "code",
   "execution_count": 7,
   "metadata": {},
   "outputs": [
    {
     "data": {
      "text/plain": [
       "'Ab wann darf ich bei einer Zugfahrt die 1. Klasse nehmen?'"
      ]
     },
     "execution_count": 7,
     "metadata": {},
     "output_type": "execute_result"
    }
   ],
   "source": [
    "env.goal.initial_user_utterance"
   ]
  },
  {
   "cell_type": "code",
   "execution_count": 8,
   "metadata": {},
   "outputs": [
    {
     "data": {
      "text/plain": [
       "({'dialog_node': DialogNode.QUESTION(key: 16348058621438633, answers: 6, questions: 0)\n",
       "          - connected_node: None\n",
       "          - text: Zu welchem Thema haben Sie Fragen?Sie können entweder eine passende Option aus der Vorschlagsliste a\n",
       "          ,\n",
       "  'dialog_node_key': 16348058621438633,\n",
       "  'original_user_utterance': 'Ab wann darf ich bei einer Zugfahrt die 1. Klasse nehmen?',\n",
       "  'current_user_utterance': 'Ich muss verreisen',\n",
       "  'system_utterance_history': ['Zu welchem Thema haben Sie Fragen?Sie können entweder eine passende Option aus der Vorschlagsliste anklicken oder unten Text eingeben.',\n",
       "   'Zu welchem Thema haben Sie Fragen?Sie können entweder eine passende Option aus der Vorschlagsliste anklicken oder unten Text eingeben.'],\n",
       "  'user_utterance_history': ['Ab wann darf ich bei einer Zugfahrt die 1. Klasse nehmen?',\n",
       "   'Ich muss verreisen'],\n",
       "  'dialog_history': [('[SYS]',\n",
       "    'Zu welchem Thema haben Sie Fragen?Sie können entweder eine passende Option aus der Vorschlagsliste anklicken oder unten Text eingeben.',\n",
       "    '',\n",
       "    '[USR]',\n",
       "    'Ab wann darf ich bei einer Zugfahrt die 1. Klasse nehmen?'),\n",
       "   ('[SYS]',\n",
       "    'Zu welchem Thema haben Sie Fragen?Sie können entweder eine passende Option aus der Vorschlagsliste anklicken oder unten Text eingeben.',\n",
       "    '',\n",
       "    '[USR]',\n",
       "    'Ich muss verreisen')],\n",
       "  'bst': {},\n",
       "  'last_sysact': 0},\n",
       " -0.03333333333333333,\n",
       " False,\n",
       " {<EnvInfo.NODE_KEY: 'node_key'>: 16348058621438633,\n",
       "  <EnvInfo.PREV_NODE_KEY: 'prev_node_key'>: 16348058621438633,\n",
       "  <EnvInfo.EPISODE_REWARD: 'episode_reward'>: -1.0,\n",
       "  <EnvInfo.EPISODE_LENGTH: 'current_step'>: 1,\n",
       "  <EnvInfo.EPISODE: 'current_episode'>: 1,\n",
       "  <EnvInfo.REACHED_GOAL_ONCE: 'reached_goal_once'>: False,\n",
       "  <EnvInfo.ASKED_GOAL: 'asked_goal'>: False})"
      ]
     },
     "execution_count": 8,
     "metadata": {},
     "output_type": "execute_result"
    }
   ],
   "source": [
    "env.step(0)"
   ]
  },
  {
   "cell_type": "code",
   "execution_count": 9,
   "metadata": {},
   "outputs": [
    {
     "data": {
      "text/plain": [
       "({'dialog_node': DialogNode.QUESTION(key: 16348058588084537, answers: 3, questions: 3)\n",
       "          - connected_node: None\n",
       "          - text: Handelt es sich um eine Dienstreise oder einen Dienstgang?\n",
       "          ,\n",
       "  'dialog_node_key': 16348058588084537,\n",
       "  'original_user_utterance': 'Ab wann darf ich bei einer Zugfahrt die 1. Klasse nehmen?',\n",
       "  'current_user_utterance': 'Ich muss verreisen',\n",
       "  'system_utterance_history': ['Zu welchem Thema haben Sie Fragen?Sie können entweder eine passende Option aus der Vorschlagsliste anklicken oder unten Text eingeben.',\n",
       "   'Zu welchem Thema haben Sie Fragen?Sie können entweder eine passende Option aus der Vorschlagsliste anklicken oder unten Text eingeben.',\n",
       "   'Handelt es sich um eine Dienstreise oder einen Dienstgang?'],\n",
       "  'user_utterance_history': ['Ab wann darf ich bei einer Zugfahrt die 1. Klasse nehmen?',\n",
       "   'Ich muss verreisen',\n",
       "   'Ich muss verreisen'],\n",
       "  'dialog_history': [('[SYS]',\n",
       "    'Zu welchem Thema haben Sie Fragen?Sie können entweder eine passende Option aus der Vorschlagsliste anklicken oder unten Text eingeben.',\n",
       "    '',\n",
       "    '[USR]',\n",
       "    'Ab wann darf ich bei einer Zugfahrt die 1. Klasse nehmen?'),\n",
       "   ('[SYS]',\n",
       "    'Zu welchem Thema haben Sie Fragen?Sie können entweder eine passende Option aus der Vorschlagsliste anklicken oder unten Text eingeben.',\n",
       "    '',\n",
       "    '[USR]',\n",
       "    'Ich muss verreisen'),\n",
       "   ('[SYS]',\n",
       "    'Handelt es sich um eine Dienstreise oder einen Dienstgang?',\n",
       "    '',\n",
       "    '[USR]',\n",
       "    'Ich muss verreisen')],\n",
       "  'bst': {},\n",
       "  'last_sysact': 1},\n",
       " -0.03333333333333333,\n",
       " False,\n",
       " {<EnvInfo.NODE_KEY: 'node_key'>: 16348058588084537,\n",
       "  <EnvInfo.PREV_NODE_KEY: 'prev_node_key'>: 16348058621438633,\n",
       "  <EnvInfo.EPISODE_REWARD: 'episode_reward'>: -2.0,\n",
       "  <EnvInfo.EPISODE_LENGTH: 'current_step'>: 2,\n",
       "  <EnvInfo.EPISODE: 'current_episode'>: 1,\n",
       "  <EnvInfo.REACHED_GOAL_ONCE: 'reached_goal_once'>: False,\n",
       "  <EnvInfo.ASKED_GOAL: 'asked_goal'>: False})"
      ]
     },
     "execution_count": 9,
     "metadata": {},
     "output_type": "execute_result"
    }
   ],
   "source": [
    "env.step(1)"
   ]
  },
  {
   "cell_type": "code",
   "execution_count": 10,
   "metadata": {},
   "outputs": [
    {
     "data": {
      "text/plain": [
       "({'dialog_node': DialogNode.QUESTION(key: 16348058588084537, answers: 3, questions: 3)\n",
       "          - connected_node: None\n",
       "          - text: Handelt es sich um eine Dienstreise oder einen Dienstgang?\n",
       "          ,\n",
       "  'dialog_node_key': 16348058588084537,\n",
       "  'original_user_utterance': 'Ab wann darf ich bei einer Zugfahrt die 1. Klasse nehmen?',\n",
       "  'current_user_utterance': 'Dienstreise',\n",
       "  'system_utterance_history': ['Zu welchem Thema haben Sie Fragen?Sie können entweder eine passende Option aus der Vorschlagsliste anklicken oder unten Text eingeben.',\n",
       "   'Zu welchem Thema haben Sie Fragen?Sie können entweder eine passende Option aus der Vorschlagsliste anklicken oder unten Text eingeben.',\n",
       "   'Handelt es sich um eine Dienstreise oder einen Dienstgang?',\n",
       "   'Handelt es sich um eine Dienstreise oder einen Dienstgang?'],\n",
       "  'user_utterance_history': ['Ab wann darf ich bei einer Zugfahrt die 1. Klasse nehmen?',\n",
       "   'Ich muss verreisen',\n",
       "   'Ich muss verreisen',\n",
       "   'Dienstreise'],\n",
       "  'dialog_history': [('[SYS]',\n",
       "    'Zu welchem Thema haben Sie Fragen?Sie können entweder eine passende Option aus der Vorschlagsliste anklicken oder unten Text eingeben.',\n",
       "    '',\n",
       "    '[USR]',\n",
       "    'Ab wann darf ich bei einer Zugfahrt die 1. Klasse nehmen?'),\n",
       "   ('[SYS]',\n",
       "    'Zu welchem Thema haben Sie Fragen?Sie können entweder eine passende Option aus der Vorschlagsliste anklicken oder unten Text eingeben.',\n",
       "    '',\n",
       "    '[USR]',\n",
       "    'Ich muss verreisen'),\n",
       "   ('[SYS]',\n",
       "    'Handelt es sich um eine Dienstreise oder einen Dienstgang?',\n",
       "    '',\n",
       "    '[USR]',\n",
       "    'Ich muss verreisen'),\n",
       "   ('[SYS]',\n",
       "    'Handelt es sich um eine Dienstreise oder einen Dienstgang?',\n",
       "    '',\n",
       "    '[USR]',\n",
       "    'Dienstreise')],\n",
       "  'bst': {},\n",
       "  'last_sysact': 0},\n",
       " -0.03333333333333333,\n",
       " False,\n",
       " {<EnvInfo.NODE_KEY: 'node_key'>: 16348058588084537,\n",
       "  <EnvInfo.PREV_NODE_KEY: 'prev_node_key'>: 16348058588084537,\n",
       "  <EnvInfo.EPISODE_REWARD: 'episode_reward'>: -3.0,\n",
       "  <EnvInfo.EPISODE_LENGTH: 'current_step'>: 3,\n",
       "  <EnvInfo.EPISODE: 'current_episode'>: 1,\n",
       "  <EnvInfo.REACHED_GOAL_ONCE: 'reached_goal_once'>: False,\n",
       "  <EnvInfo.ASKED_GOAL: 'asked_goal'>: False})"
      ]
     },
     "execution_count": 10,
     "metadata": {},
     "output_type": "execute_result"
    }
   ],
   "source": [
    "env.step(0)"
   ]
  },
  {
   "cell_type": "code",
   "execution_count": 11,
   "metadata": {},
   "outputs": [
    {
     "data": {
      "text/plain": [
       "({'dialog_node': DialogNode.QUESTION(key: 16348064261907944, answers: 2, questions: 0)\n",
       "          - connected_node: None\n",
       "          - text: Haben Sie die schriftliche Genehmigung ihres Vorgesetzten eingeholt?\n",
       "          ,\n",
       "  'dialog_node_key': 16348064261907944,\n",
       "  'original_user_utterance': 'Ab wann darf ich bei einer Zugfahrt die 1. Klasse nehmen?',\n",
       "  'current_user_utterance': 'Dienstreise',\n",
       "  'system_utterance_history': ['Zu welchem Thema haben Sie Fragen?Sie können entweder eine passende Option aus der Vorschlagsliste anklicken oder unten Text eingeben.',\n",
       "   'Zu welchem Thema haben Sie Fragen?Sie können entweder eine passende Option aus der Vorschlagsliste anklicken oder unten Text eingeben.',\n",
       "   'Handelt es sich um eine Dienstreise oder einen Dienstgang?',\n",
       "   'Handelt es sich um eine Dienstreise oder einen Dienstgang?',\n",
       "   'Haben Sie die schriftliche Genehmigung ihres Vorgesetzten eingeholt?'],\n",
       "  'user_utterance_history': ['Ab wann darf ich bei einer Zugfahrt die 1. Klasse nehmen?',\n",
       "   'Ich muss verreisen',\n",
       "   'Ich muss verreisen',\n",
       "   'Dienstreise',\n",
       "   'Dienstreise'],\n",
       "  'dialog_history': [('[SYS]',\n",
       "    'Zu welchem Thema haben Sie Fragen?Sie können entweder eine passende Option aus der Vorschlagsliste anklicken oder unten Text eingeben.',\n",
       "    '',\n",
       "    '[USR]',\n",
       "    'Ab wann darf ich bei einer Zugfahrt die 1. Klasse nehmen?'),\n",
       "   ('[SYS]',\n",
       "    'Zu welchem Thema haben Sie Fragen?Sie können entweder eine passende Option aus der Vorschlagsliste anklicken oder unten Text eingeben.',\n",
       "    '',\n",
       "    '[USR]',\n",
       "    'Ich muss verreisen'),\n",
       "   ('[SYS]',\n",
       "    'Handelt es sich um eine Dienstreise oder einen Dienstgang?',\n",
       "    '',\n",
       "    '[USR]',\n",
       "    'Ich muss verreisen'),\n",
       "   ('[SYS]',\n",
       "    'Handelt es sich um eine Dienstreise oder einen Dienstgang?',\n",
       "    '',\n",
       "    '[USR]',\n",
       "    'Dienstreise'),\n",
       "   ('[SYS]',\n",
       "    'Haben Sie die schriftliche Genehmigung ihres Vorgesetzten eingeholt?',\n",
       "    '',\n",
       "    '[USR]',\n",
       "    'Dienstreise')],\n",
       "  'bst': {},\n",
       "  'last_sysact': 1},\n",
       " -0.03333333333333333,\n",
       " False,\n",
       " {<EnvInfo.NODE_KEY: 'node_key'>: 16348064261907944,\n",
       "  <EnvInfo.PREV_NODE_KEY: 'prev_node_key'>: 16348058588084537,\n",
       "  <EnvInfo.EPISODE_REWARD: 'episode_reward'>: -4.0,\n",
       "  <EnvInfo.EPISODE_LENGTH: 'current_step'>: 4,\n",
       "  <EnvInfo.EPISODE: 'current_episode'>: 1,\n",
       "  <EnvInfo.REACHED_GOAL_ONCE: 'reached_goal_once'>: False,\n",
       "  <EnvInfo.ASKED_GOAL: 'asked_goal'>: False})"
      ]
     },
     "execution_count": 11,
     "metadata": {},
     "output_type": "execute_result"
    }
   ],
   "source": [
    "env.step(1)"
   ]
  },
  {
   "cell_type": "code",
   "execution_count": 20,
   "metadata": {},
   "outputs": [
    {
     "data": {
      "text/plain": [
       "({'dialog_node': DialogNode.QUESTION(key: 16348064261907944, answers: 2, questions: 0)\n",
       "          - connected_node: None\n",
       "          - text: Haben Sie die schriftliche Genehmigung ihres Vorgesetzten eingeholt?\n",
       "          ,\n",
       "  'dialog_node_key': 16348064261907944,\n",
       "  'original_user_utterance': 'Meine Tasche wurde gestohlen, wer hilft mir weiter?',\n",
       "  'current_user_utterance': 'Notfall auf der Dienstreise',\n",
       "  'system_utterance_history': ['Zu welchem Thema haben Sie Fragen?Sie können entweder eine passende Option aus der Vorschlagsliste anklicken oder unten Text eingeben.',\n",
       "   'Zu welchem Thema haben Sie Fragen?Sie können entweder eine passende Option aus der Vorschlagsliste anklicken oder unten Text eingeben.',\n",
       "   'Handelt es sich um eine Dienstreise oder einen Dienstgang?',\n",
       "   'Haben Sie die schriftliche Genehmigung ihres Vorgesetzten eingeholt?'],\n",
       "  'user_utterance_history': ['Meine Tasche wurde gestohlen, wer hilft mir weiter?',\n",
       "   'Notfall auf der Dienstreise',\n",
       "   'Notfall auf der Dienstreise',\n",
       "   'Notfall auf der Dienstreise'],\n",
       "  'dialog_history': [('[SYS]',\n",
       "    'Zu welchem Thema haben Sie Fragen?Sie können entweder eine passende Option aus der Vorschlagsliste anklicken oder unten Text eingeben.',\n",
       "    '',\n",
       "    '[USR]',\n",
       "    'Meine Tasche wurde gestohlen, wer hilft mir weiter?'),\n",
       "   ('[SYS]',\n",
       "    'Zu welchem Thema haben Sie Fragen?Sie können entweder eine passende Option aus der Vorschlagsliste anklicken oder unten Text eingeben.',\n",
       "    '',\n",
       "    '[USR]',\n",
       "    'Notfall auf der Dienstreise'),\n",
       "   ('[SYS]',\n",
       "    'Handelt es sich um eine Dienstreise oder einen Dienstgang?',\n",
       "    '',\n",
       "    '[USR]',\n",
       "    'Notfall auf der Dienstreise'),\n",
       "   ('[SYS]',\n",
       "    'Haben Sie die schriftliche Genehmigung ihres Vorgesetzten eingeholt?',\n",
       "    '',\n",
       "    '[USR]',\n",
       "    'Notfall auf der Dienstreise')],\n",
       "  'bst': {},\n",
       "  'last_sysact': 1},\n",
       " -0.03333333333333333,\n",
       " False,\n",
       " {<EnvInfo.NODE_KEY: 'node_key'>: 16348064261907944,\n",
       "  <EnvInfo.PREV_NODE_KEY: 'prev_node_key'>: 16348058588084537,\n",
       "  <EnvInfo.EPISODE_REWARD: 'episode_reward'>: -3.0,\n",
       "  <EnvInfo.EPISODE_LENGTH: 'current_step'>: 3,\n",
       "  <EnvInfo.EPISODE: 'current_episode'>: 2,\n",
       "  <EnvInfo.REACHED_GOAL_ONCE: 'reached_goal_once'>: False,\n",
       "  <EnvInfo.ASKED_GOAL: 'asked_goal'>: False})"
      ]
     },
     "execution_count": 20,
     "metadata": {},
     "output_type": "execute_result"
    }
   ],
   "source": [
    "env.step(1)"
   ]
  },
  {
   "cell_type": "code",
   "execution_count": 12,
   "metadata": {},
   "outputs": [
    {
     "data": {
      "text/plain": [
       "({'dialog_node': DialogNode.QUESTION(key: 16348064261907944, answers: 2, questions: 0)\n",
       "          - connected_node: None\n",
       "          - text: Haben Sie die schriftliche Genehmigung ihres Vorgesetzten eingeholt?\n",
       "          ,\n",
       "  'dialog_node_key': 16348064261907944,\n",
       "  'original_user_utterance': 'Ab wann darf ich bei einer Zugfahrt die 1. Klasse nehmen?',\n",
       "  'current_user_utterance': 'nicht',\n",
       "  'system_utterance_history': ['Zu welchem Thema haben Sie Fragen?Sie können entweder eine passende Option aus der Vorschlagsliste anklicken oder unten Text eingeben.',\n",
       "   'Zu welchem Thema haben Sie Fragen?Sie können entweder eine passende Option aus der Vorschlagsliste anklicken oder unten Text eingeben.',\n",
       "   'Handelt es sich um eine Dienstreise oder einen Dienstgang?',\n",
       "   'Handelt es sich um eine Dienstreise oder einen Dienstgang?',\n",
       "   'Haben Sie die schriftliche Genehmigung ihres Vorgesetzten eingeholt?',\n",
       "   'Haben Sie die schriftliche Genehmigung ihres Vorgesetzten eingeholt?'],\n",
       "  'user_utterance_history': ['Ab wann darf ich bei einer Zugfahrt die 1. Klasse nehmen?',\n",
       "   'Ich muss verreisen',\n",
       "   'Ich muss verreisen',\n",
       "   'Dienstreise',\n",
       "   'Dienstreise',\n",
       "   'nicht'],\n",
       "  'dialog_history': [('[SYS]',\n",
       "    'Zu welchem Thema haben Sie Fragen?Sie können entweder eine passende Option aus der Vorschlagsliste anklicken oder unten Text eingeben.',\n",
       "    '',\n",
       "    '[USR]',\n",
       "    'Ab wann darf ich bei einer Zugfahrt die 1. Klasse nehmen?'),\n",
       "   ('[SYS]',\n",
       "    'Zu welchem Thema haben Sie Fragen?Sie können entweder eine passende Option aus der Vorschlagsliste anklicken oder unten Text eingeben.',\n",
       "    '',\n",
       "    '[USR]',\n",
       "    'Ich muss verreisen'),\n",
       "   ('[SYS]',\n",
       "    'Handelt es sich um eine Dienstreise oder einen Dienstgang?',\n",
       "    '',\n",
       "    '[USR]',\n",
       "    'Ich muss verreisen'),\n",
       "   ('[SYS]',\n",
       "    'Handelt es sich um eine Dienstreise oder einen Dienstgang?',\n",
       "    '',\n",
       "    '[USR]',\n",
       "    'Dienstreise'),\n",
       "   ('[SYS]',\n",
       "    'Haben Sie die schriftliche Genehmigung ihres Vorgesetzten eingeholt?',\n",
       "    '',\n",
       "    '[USR]',\n",
       "    'Dienstreise'),\n",
       "   ('[SYS]',\n",
       "    'Haben Sie die schriftliche Genehmigung ihres Vorgesetzten eingeholt?',\n",
       "    '',\n",
       "    '[USR]',\n",
       "    'nicht')],\n",
       "  'bst': {},\n",
       "  'last_sysact': 0},\n",
       " -0.03333333333333333,\n",
       " False,\n",
       " {<EnvInfo.NODE_KEY: 'node_key'>: 16348064261907944,\n",
       "  <EnvInfo.PREV_NODE_KEY: 'prev_node_key'>: 16348064261907944,\n",
       "  <EnvInfo.EPISODE_REWARD: 'episode_reward'>: -5.0,\n",
       "  <EnvInfo.EPISODE_LENGTH: 'current_step'>: 5,\n",
       "  <EnvInfo.EPISODE: 'current_episode'>: 1,\n",
       "  <EnvInfo.REACHED_GOAL_ONCE: 'reached_goal_once'>: False,\n",
       "  <EnvInfo.ASKED_GOAL: 'asked_goal'>: False})"
      ]
     },
     "execution_count": 12,
     "metadata": {},
     "output_type": "execute_result"
    }
   ],
   "source": [
    "env.step(0)"
   ]
  },
  {
   "cell_type": "code",
   "execution_count": null,
   "metadata": {},
   "outputs": [],
   "source": []
  }
 ],
 "metadata": {
  "kernelspec": {
   "display_name": ".env",
   "language": "python",
   "name": "python3"
  },
  "language_info": {
   "codemirror_mode": {
    "name": "ipython",
    "version": 3
   },
   "file_extension": ".py",
   "mimetype": "text/x-python",
   "name": "python",
   "nbconvert_exporter": "python",
   "pygments_lexer": "ipython3",
   "version": "3.10.8"
  },
  "orig_nbformat": 4
 },
 "nbformat": 4,
 "nbformat_minor": 2
}
