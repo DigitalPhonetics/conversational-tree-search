{
 "cells": [
  {
   "cell_type": "code",
   "execution_count": 3,
   "metadata": {},
   "outputs": [],
   "source": [
    "from typing import List\n",
    "import itertools\n",
    "\n",
    "def chain_dialog_history(sys_utterances: List[str], usr_utterances: List[str], sys_token: str = \"\", usr_token: str = \"\", sep_token: str = \"\"):\n",
    "    \"\"\"\n",
    "    Interleave system and user utterances to a combined history.\n",
    "\n",
    "    Args:\n",
    "        sys_utterances: List of all system utterances (one turn per list entry)\n",
    "        usr_utterances: List of all user utterances (one turn per list entry)\n",
    "        sys_token: Token appended to each system utterance, e.g. \"[SYS]\" -> [SYS] sys turn 1 [USR] usr turn 1 [SYS] sys turn 2 ...\n",
    "        usr_token: Token appended to each user utterance, e.g. \"[SYS]\" -> [SYS] sys turn 1 [USR] usr turn 1 [SYS] sys turn 2 ...\n",
    "        sep_token Seperator token added between each system and user utterance, e.g. \"[SEP]\" -> sys 1 [SEP] usr turn 1 [SEP] sys turn 2 ...\n",
    "\n",
    "    Returns: \n",
    "        List[Tuple(sys: str, usr: str)]\n",
    "    \"\"\"\n",
    "    turns = len(sys_utterances)\n",
    "    assert len(usr_utterances) == turns\n",
    "    return list(itertools.chain(zip([sys_token] * turns, [utterance for utterance in sys_utterances], [sep_token] * turns, [usr_token] * turns, [utterance for utterance in usr_utterances])))\n",
    "    \n"
   ]
  },
  {
   "cell_type": "code",
   "execution_count": 4,
   "metadata": {},
   "outputs": [
    {
     "name": "stdout",
     "output_type": "stream",
     "text": [
      "[('[SYS]', 'system 1', '', '', 'usr 1'), ('[SYS]', 'system 2', '', '', 'usr 2')]\n",
      "[('', 'system 1', '', '[USR]', 'usr 1'), ('', 'system 2', '', '[USR]', 'usr 2')]\n",
      "[('', 'system 1', '[SEP]', '', 'usr 1'), ('', 'system 2', '[SEP]', '', 'usr 2')]\n",
      "[('[SYS]', 'system 1', '', '[USR]', 'usr 1'), ('[SYS]', 'system 2', '', '[USR]', 'usr 2')]\n",
      "[('[SYS]', 'system 1', '[SEP]', '', 'usr 1'), ('[SYS]', 'system 2', '[SEP]', '', 'usr 2')]\n",
      "[('', 'system 1', '[SEP]', '[USR]', 'usr 1'), ('', 'system 2', '[SEP]', '[USR]', 'usr 2')]\n",
      "[('[SYS]', 'system 1', '[SEP]', '[USR]', 'usr 1'), ('[SYS]', 'system 2', '[SEP]', '[USR]', 'usr 2')]\n"
     ]
    }
   ],
   "source": [
    "sys_hist = [\"system 1\", \"system 2\"]\n",
    "usr_hist = [\"usr 1\", \"usr 2\"]\n",
    "\n",
    "print(chain_dialog_history(sys_hist, usr_hist, sys_token=\"[SYS]\"))\n",
    "print(chain_dialog_history(sys_hist, usr_hist, usr_token=\"[USR]\"))\n",
    "print(chain_dialog_history(sys_hist, usr_hist, sep_token=\"[SEP]\"))\n",
    "print(chain_dialog_history(sys_hist, usr_hist, sys_token=\"[SYS]\", usr_token=\"[USR]\"))\n",
    "print(chain_dialog_history(sys_hist, usr_hist, sys_token=\"[SYS]\", sep_token=\"[SEP]\"))\n",
    "print(chain_dialog_history(sys_hist, usr_hist, usr_token=\"[USR]\", sep_token=\"[SEP]\"))\n",
    "print(chain_dialog_history(sys_hist, usr_hist, sys_token=\"[SYS]\", usr_token=\"[USR]\", sep_token=\"[SEP]\"))"
   ]
  },
  {
   "cell_type": "code",
   "execution_count": null,
   "metadata": {},
   "outputs": [],
   "source": []
  }
 ],
 "metadata": {
  "kernelspec": {
   "display_name": ".env",
   "language": "python",
   "name": "python3"
  },
  "language_info": {
   "codemirror_mode": {
    "name": "ipython",
    "version": 3
   },
   "file_extension": ".py",
   "mimetype": "text/x-python",
   "name": "python",
   "nbconvert_exporter": "python",
   "pygments_lexer": "ipython3",
   "version": "3.10.8"
  },
  "orig_nbformat": 4
 },
 "nbformat": 4,
 "nbformat_minor": 2
}
