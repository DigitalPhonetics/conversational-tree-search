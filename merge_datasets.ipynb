{
 "cells": [
  {
   "cell_type": "code",
   "execution_count": 1,
   "metadata": {},
   "outputs": [],
   "source": [
    "import json"
   ]
  },
  {
   "cell_type": "code",
   "execution_count": 3,
   "metadata": {},
   "outputs": [],
   "source": [
    "with open('train_graph.json', 'r') as f:\n",
    "    train_data_full = json.load(f)\n",
    "with open('test_graph.json', 'r') as f:\n",
    "    test_data = json.load(f)"
   ]
  },
  {
   "cell_type": "code",
   "execution_count": 4,
   "metadata": {},
   "outputs": [
    {
     "name": "stdout",
     "output_type": "stream",
     "text": [
      "123\n",
      "123\n"
     ]
    }
   ],
   "source": [
    "# merge data\n",
    "train_data = {node['id']: node for node in train_data_full.pop('nodes')}\n",
    "test_data = {node['id']: node for node in test_data['nodes']}\n",
    "merged_data = {}\n",
    "\n",
    "print(len(train_data))\n",
    "print(len(test_data))"
   ]
  },
  {
   "cell_type": "code",
   "execution_count": 5,
   "metadata": {},
   "outputs": [
    {
     "name": "stdout",
     "output_type": "stream",
     "text": [
      "Info nodes 79\n",
      "Response Nodes 23\n",
      "Train FAQ questions 279\n",
      "Train FAQ questions per info node 3.5316455696202533\n",
      "Test FAQ questions 173\n",
      "Test FAQ questions per info node 2.189873417721519\n"
     ]
    }
   ],
   "source": [
    "infoNodeCount = sum(map(lambda node_key: train_data[node_key]['type'] == 'infoNode', train_data))\n",
    "print(\"Info nodes\", infoNodeCount)\n",
    "print(\"Response Nodes\", sum(map(lambda node_key: test_data[node_key]['type'] == 'userResponseNode', test_data)))\n",
    "print(\"Train FAQ questions\", sum(map(lambda node_key: len(train_data[node_key]['data']['questions']), train_data)))\n",
    "print(\"Train FAQ questions per info node\", sum(map(lambda node_key: len(train_data[node_key]['data']['questions']), train_data)) / infoNodeCount)\n",
    "print(\"Test FAQ questions\", sum(map(lambda node_key: len(test_data[node_key]['data']['questions']), test_data)))\n",
    "print(\"Test FAQ questions per info node\", sum(map(lambda node_key: len(test_data[node_key]['data']['questions']), test_data)) / infoNodeCount)"
   ]
  },
  {
   "cell_type": "code",
   "execution_count": 6,
   "metadata": {},
   "outputs": [],
   "source": [
    "for key in train_data:\n",
    "    assert key in test_data\n",
    "\n",
    "    merged_data[key] = train_data[key]\n",
    "    train_keys = set(q['id'] for q in train_data[key]['data']['questions'])\n",
    "    test_keys = set(map(lambda q: str(int(q['id'])+2), test_data[key]['data']['questions']))\n",
    "    assert  train_keys.isdisjoint(test_keys), f\"Train: {train_keys}, Test: {test_keys}, Intersection: {train_keys.intersection(test_keys)}\"\n",
    "    for q in test_data[key]['data']['questions']:\n",
    "        q['id'] = str(int(q['id'])+2)\n",
    "    merged_data[key]['data']['questions'] += test_data[key]['data']['questions']\n",
    "\n",
    "assert len(merged_data) == len(train_data) == len(test_data)\n"
   ]
  },
  {
   "cell_type": "code",
   "execution_count": 7,
   "metadata": {},
   "outputs": [],
   "source": [
    "final_data = {\n",
    "    'nodes': list(merged_data.values()),\n",
    "} | train_data_full"
   ]
  },
  {
   "cell_type": "code",
   "execution_count": 8,
   "metadata": {},
   "outputs": [
    {
     "name": "stdout",
     "output_type": "stream",
     "text": [
      "Info nodes 79\n",
      "Response Nodes 23\n",
      "Merged FAQ questions 452\n",
      "merged_data FAQ questions per info node 5.7215189873417724\n"
     ]
    }
   ],
   "source": [
    "infoNodeCount = sum(map(lambda node_key: merged_data[node_key]['type'] == 'infoNode', merged_data))\n",
    "print(\"Info nodes\", infoNodeCount)\n",
    "print(\"Response Nodes\", sum(map(lambda node_key: merged_data[node_key]['type'] == 'userResponseNode', merged_data)))\n",
    "print(\"Merged FAQ questions\", sum(map(lambda node_key: len(merged_data[node_key]['data']['questions']), merged_data)))\n",
    "print(\"merged_data FAQ questions per info node\", sum(map(lambda node_key: len(merged_data[node_key]['data']['questions']), merged_data)) / infoNodeCount)"
   ]
  },
  {
   "cell_type": "code",
   "execution_count": 6,
   "metadata": {},
   "outputs": [],
   "source": [
    "with open('traintest_graph.json', 'w') as f:\n",
    "    json.dump(final_data, f)"
   ]
  },
  {
   "cell_type": "code",
   "execution_count": 9,
   "metadata": {},
   "outputs": [],
   "source": [
    "# merge answer synonyms\n",
    "with open('train_answers.json', \"r\") as f:\n",
    "    train_answers = json.load(f)\n",
    "with open('test_answers.json', \"r\") as f:\n",
    "    test_answers = json.load(f)"
   ]
  },
  {
   "cell_type": "code",
   "execution_count": 10,
   "metadata": {},
   "outputs": [
    {
     "name": "stdout",
     "output_type": "stream",
     "text": [
      "Train Answers 246\n",
      "Train Answers synonyms per answer 3.3698630136986303\n",
      "Test Answers 162\n",
      "Test Answers synonyms per answer 2.219178082191781\n"
     ]
    }
   ],
   "source": [
    "from statistics import mean\n",
    "\n",
    "print(\"Train Answers\", sum(map(lambda ans: len(train_answers[ans]), train_answers)))\n",
    "print(\"Train Answers synonyms per answer\", mean(map(lambda ans: len(train_answers[ans]), train_answers)))\n",
    "print(\"Test Answers\", sum(map(lambda ans: len(test_answers[ans]), test_answers)))\n",
    "print(\"Test Answers synonyms per answer\", mean(map(lambda ans: len(test_answers[ans]), test_answers)))"
   ]
  },
  {
   "cell_type": "code",
   "execution_count": 11,
   "metadata": {},
   "outputs": [],
   "source": [
    "merged_answers = {}\n",
    "for key in train_answers:\n",
    "    assert key in test_answers\n",
    "    merged_answers[key] = train_answers[key] + test_answers[key]"
   ]
  },
  {
   "cell_type": "code",
   "execution_count": 12,
   "metadata": {},
   "outputs": [],
   "source": [
    "assert len(merged_answers) == len(train_answers) == len(test_answers)"
   ]
  },
  {
   "cell_type": "code",
   "execution_count": 13,
   "metadata": {},
   "outputs": [
    {
     "name": "stdout",
     "output_type": "stream",
     "text": [
      "Merged Answers 408\n",
      "Merged Answers synonyms per answer 5.589041095890411\n"
     ]
    }
   ],
   "source": [
    "from statistics import mean\n",
    "\n",
    "print(\"Merged Answers\", sum(map(lambda ans: len(merged_answers[ans]), merged_answers)))\n",
    "print(\"Merged Answers synonyms per answer\", mean(map(lambda ans: len(merged_answers[ans]), merged_answers)))"
   ]
  },
  {
   "cell_type": "code",
   "execution_count": 11,
   "metadata": {},
   "outputs": [],
   "source": [
    "with open('traintest_answers.json', \"w\") as f:\n",
    "    json.dump(merged_answers, f)"
   ]
  },
  {
   "cell_type": "code",
   "execution_count": null,
   "metadata": {},
   "outputs": [],
   "source": []
  }
 ],
 "metadata": {
  "kernelspec": {
   "display_name": "Python 3.10.7 ('.env': venv)",
   "language": "python",
   "name": "python3"
  },
  "language_info": {
   "codemirror_mode": {
    "name": "ipython",
    "version": 3
   },
   "file_extension": ".py",
   "mimetype": "text/x-python",
   "name": "python",
   "nbconvert_exporter": "python",
   "pygments_lexer": "ipython3",
   "version": "3.10.7"
  },
  "orig_nbformat": 4,
  "vscode": {
   "interpreter": {
    "hash": "056f2124f905d9dd687b58d215ad5799610d7eb9433e0a5b89cc00dc4660a857"
   }
  }
 },
 "nbformat": 4,
 "nbformat_minor": 2
}
