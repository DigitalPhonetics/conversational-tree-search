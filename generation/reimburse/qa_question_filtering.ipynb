{
 "cells": [
  {
   "cell_type": "code",
   "execution_count": 1,
   "metadata": {},
   "outputs": [],
   "source": [
    "import os\n",
    "os.environ[\"CUDA_VISIBLE_DEVICES\"] = \"8\"\n",
    "DEVICE='cuda:0'"
   ]
  },
  {
   "cell_type": "code",
   "execution_count": 2,
   "metadata": {},
   "outputs": [],
   "source": [
    "import sys\n",
    "sys.path.append(os.path.realpath('../../'))"
   ]
  },
  {
   "cell_type": "code",
   "execution_count": 9,
   "metadata": {},
   "outputs": [],
   "source": [
    "from transformers import AutoModelForQuestionAnswering, AutoTokenizer, pipeline\n",
    "\n",
    "model_name = \"deepset/roberta-large-squad2\"\n",
    "\n",
    "tokenizer = AutoTokenizer.from_pretrained(model_name)\n",
    "model = AutoModelForQuestionAnswering.from_pretrained(model_name, cache_dir=\"/mount/arbeitsdaten/asr-2/vaethdk/resources/weights/\").to(DEVICE)"
   ]
  },
  {
   "cell_type": "code",
   "execution_count": 5,
   "metadata": {},
   "outputs": [],
   "source": []
  },
  {
   "cell_type": "code",
   "execution_count": 10,
   "metadata": {},
   "outputs": [],
   "source": [
    "nlp = pipeline('question-answering', model=model_name, tokenizer=model_name, device=DEVICE, cache_dir=\"/mount/arbeitsdaten/asr-2/vaethdk/resources/weights/\")\n",
    "\n"
   ]
  },
  {
   "cell_type": "code",
   "execution_count": 17,
   "metadata": {},
   "outputs": [],
   "source": [
    "QA_input = {\n",
    "    'question': 'What do we need?',\n",
    "    'context': 'Computers are neccessary for daily life.'\n",
    "}\n",
    "res = nlp(QA_input)"
   ]
  },
  {
   "cell_type": "code",
   "execution_count": 18,
   "metadata": {},
   "outputs": [
    {
     "data": {
      "text/plain": [
       "{'score': 0.9104044437408447, 'start': 0, 'end': 9, 'answer': 'Computers'}"
      ]
     },
     "execution_count": 18,
     "metadata": {},
     "output_type": "execute_result"
    }
   ],
   "source": [
    "res"
   ]
  },
  {
   "cell_type": "code",
   "execution_count": 20,
   "metadata": {},
   "outputs": [
    {
     "name": "stdout",
     "output_type": "stream",
     "text": [
      "{'score': 2.9505565990461946e-08, 'start': 39, 'end': 40, 'answer': '.'}\n"
     ]
    }
   ],
   "source": [
    "QA_input = {\n",
    "    'question': 'Who is John?',\n",
    "    'context': 'Computers are neccessary for daily life.'\n",
    "}\n",
    "res = nlp(QA_input)\n",
    "print(res)"
   ]
  },
  {
   "cell_type": "code",
   "execution_count": 36,
   "metadata": {},
   "outputs": [
    {
     "name": "stdout",
     "output_type": "stream",
     "text": [
      "{'score': 1.678999828058636e-09, 'start': 39, 'end': 40, 'answer': '.'}\n"
     ]
    }
   ],
   "source": [
    "QA_input = {\n",
    "    'question': 'Where does John live?',\n",
    "    'context': 'Computers are neccessary for daily life.'\n",
    "}\n",
    "res = nlp(QA_input)\n",
    "print(res)"
   ]
  },
  {
   "cell_type": "code",
   "execution_count": 24,
   "metadata": {},
   "outputs": [
    {
     "name": "stdout",
     "output_type": "stream",
     "text": [
      "{'score': 2.3946718386014254e-08, 'start': 14, 'end': 40, 'answer': 'neccessary for daily life.'}\n"
     ]
    }
   ],
   "source": [
    "QA_input = {\n",
    "    'question': 'How much does Nutella cost in the US?',\n",
    "    'context': 'Computers are neccessary for daily life.'\n",
    "}\n",
    "res = nlp(QA_input)\n",
    "print(res)"
   ]
  },
  {
   "cell_type": "code",
   "execution_count": 25,
   "metadata": {},
   "outputs": [],
   "source": [
    "from data.dataset import GraphDataset, ReimburseGraphDataset, DataAugmentationLevel, DialogNode, NodeType"
   ]
  },
  {
   "cell_type": "code",
   "execution_count": 60,
   "metadata": {},
   "outputs": [
    {
     "name": "stdout",
     "output_type": "stream",
     "text": [
      "- not using synonyms\n",
      "===== Dataset Statistics =====\n",
      "- files:  en/reimburse/train_graph.json en/reimburse/train_answers.json\n",
      "- synonyms: False\n",
      "- depth: 20  - degree: 13\n",
      "- answers: 73\n",
      "- questions: 279\n",
      "- loaded original data: True\n",
      "- loaded generated data: False\n",
      "- not using synonyms\n",
      "===== Dataset Statistics =====\n",
      "- files:  en/reimburse/test_graph.json en/reimburse/test_answers.json\n",
      "- synonyms: False\n",
      "- depth: 20  - degree: 13\n",
      "- answers: 73\n",
      "- questions: 173\n",
      "- loaded original data: True\n",
      "- loaded generated data: False\n",
      "- Loading questions from  ../../resources/en/reimburse/generated/train_questions_v1.json\n",
      "- not using synonyms\n",
      "===== Dataset Statistics =====\n",
      "- files:  en/reimburse/train_graph.json en/reimburse/train_answers.json\n",
      "- synonyms: False\n",
      "- depth: 20  - degree: 13\n",
      "- answers: 73\n",
      "- questions: 800\n",
      "- loaded original data: False\n",
      "- loaded generated data: True\n",
      "- Loading questions from  ../../resources/en/reimburse/generated/train_questions_v1_ling.json\n",
      "- not using synonyms\n",
      "===== Dataset Statistics =====\n",
      "- files:  en/reimburse/train_graph.json en/reimburse/train_answers.json\n",
      "- synonyms: False\n",
      "- depth: 20  - degree: 13\n",
      "- answers: 73\n",
      "- questions: 3681\n",
      "- loaded original data: False\n",
      "- loaded generated data: True\n",
      "- Loading questions from  ../../resources/en/reimburse/generated/train_questions_v2.json\n",
      "- not using synonyms\n",
      "===== Dataset Statistics =====\n",
      "- files:  en/reimburse/train_graph.json en/reimburse/train_answers.json\n",
      "- synonyms: False\n",
      "- depth: 20  - degree: 13\n",
      "- answers: 73\n",
      "- questions: 800\n",
      "- loaded original data: False\n",
      "- loaded generated data: True\n",
      "- Loading questions from  ../../resources/en/reimburse/generated/train_questions_v2_ling.json\n",
      "- not using synonyms\n",
      "===== Dataset Statistics =====\n",
      "- files:  en/reimburse/train_graph.json en/reimburse/train_answers.json\n",
      "- synonyms: False\n",
      "- depth: 20  - degree: 13\n",
      "- answers: 73\n",
      "- questions: 3062\n",
      "- loaded original data: False\n",
      "- loaded generated data: True\n",
      "- Loading questions from  ../../resources/en/reimburse/generated/train_questions_v3.json\n",
      "- not using synonyms\n",
      "===== Dataset Statistics =====\n",
      "- files:  en/reimburse/train_graph.json en/reimburse/train_answers.json\n",
      "- synonyms: False\n",
      "- depth: 20  - degree: 13\n",
      "- answers: 73\n",
      "- questions: 416\n",
      "- loaded original data: False\n",
      "- loaded generated data: True\n",
      "- Loading questions from  ../../resources/en/reimburse/generated/train_questions_v3_ling.json\n",
      "- not using synonyms\n",
      "===== Dataset Statistics =====\n",
      "- files:  en/reimburse/train_graph.json en/reimburse/train_answers.json\n",
      "- synonyms: False\n",
      "- depth: 20  - degree: 13\n",
      "- answers: 73\n",
      "- questions: 2134\n",
      "- loaded original data: False\n",
      "- loaded generated data: True\n"
     ]
    }
   ],
   "source": [
    "human_data_train = ReimburseGraphDataset('en/reimburse/train_graph.json', 'en/reimburse/train_answers.json', False, augmentation=DataAugmentationLevel.NONE, resource_dir=\"../../resources/\")\n",
    "human_data_test = ReimburseGraphDataset('en/reimburse/test_graph.json', 'en/reimburse/test_answers.json', False, augmentation=DataAugmentationLevel.NONE, resource_dir=\"../../resources/\")\n",
    "generated_data_train_v1 = ReimburseGraphDataset('en/reimburse/train_graph.json', 'en/reimburse/train_answers.json', False, augmentation=DataAugmentationLevel.ARTIFICIAL_ONLY, augmentation_path=\"en/reimburse/generated/train_questions_v1.json\", resource_dir=\"../../resources/\")\n",
    "generated_data_train_v1_ling = ReimburseGraphDataset('en/reimburse/train_graph.json', 'en/reimburse/train_answers.json', False, augmentation=DataAugmentationLevel.ARTIFICIAL_ONLY, augmentation_path=\"en/reimburse/generated/train_questions_v1_ling.json\", resource_dir=\"../../resources/\")\n",
    "generated_data_train_v2 = ReimburseGraphDataset('en/reimburse/train_graph.json', 'en/reimburse/train_answers.json', False, augmentation=DataAugmentationLevel.ARTIFICIAL_ONLY, augmentation_path=\"en/reimburse/generated/train_questions_v2.json\", resource_dir=\"../../resources/\")\n",
    "generated_data_train_v2_ling = ReimburseGraphDataset('en/reimburse/train_graph.json', 'en/reimburse/train_answers.json', False, augmentation=DataAugmentationLevel.ARTIFICIAL_ONLY, augmentation_path=\"en/reimburse/generated/train_questions_v2_ling.json\", resource_dir=\"../../resources/\")\n",
    "generated_data_train_v3 = ReimburseGraphDataset('en/reimburse/train_graph.json', 'en/reimburse/train_answers.json', False, augmentation=DataAugmentationLevel.ARTIFICIAL_ONLY, augmentation_path=\"en/reimburse/generated/train_questions_v3.json\", resource_dir=\"../../resources/\")\n",
    "generated_data_train_v3_ling = ReimburseGraphDataset('en/reimburse/train_graph.json', 'en/reimburse/train_answers.json', False, augmentation=DataAugmentationLevel.ARTIFICIAL_ONLY, augmentation_path=\"en/reimburse/generated/train_questions_v3_ling.json\", resource_dir=\"../../resources/\")"
   ]
  },
  {
   "cell_type": "code",
   "execution_count": 69,
   "metadata": {},
   "outputs": [],
   "source": [
    "datasets = {\n",
    "    \"Human Train\": human_data_train,\n",
    "    \"Human Test\": human_data_test,\n",
    "    \"Generated V1\": generated_data_train_v1,\n",
    "    \"Generated V1 Ling\": generated_data_train_v1_ling,\n",
    "    \"Generated V2\": generated_data_train_v2,\n",
    "    \"Generated V2 Ling\": generated_data_train_v2_ling,\n",
    "    \"Generated V3\": generated_data_train_v3,\n",
    "    \"Generated V3 Ling\": generated_data_train_v3_ling,\n",
    "}"
   ]
  },
  {
   "cell_type": "code",
   "execution_count": 77,
   "metadata": {},
   "outputs": [
    {
     "name": "stdout",
     "output_type": "stream",
     "text": [
      "Human Train #questions: 279\n"
     ]
    },
    {
     "name": "stderr",
     "output_type": "stream",
     "text": [
      "  0%|          | 0/279 [00:00<?, ?it/s]/mount/arbeitsdaten/asr-2/vaethdk/virtualenvs/cts_en/lib64/python3.10/site-packages/transformers/pipelines/base.py:1081: UserWarning: You seem to be using the pipelines sequentially on GPU. In order to maximize efficiency please use a dataset\n",
      "  warnings.warn(\n",
      "100%|██████████| 279/279 [00:05<00:00, 50.09it/s]\n"
     ]
    },
    {
     "name": "stdout",
     "output_type": "stream",
     "text": [
      "Human Test #questions: 173\n"
     ]
    },
    {
     "name": "stderr",
     "output_type": "stream",
     "text": [
      "100%|██████████| 173/173 [00:03<00:00, 49.55it/s]\n"
     ]
    },
    {
     "name": "stdout",
     "output_type": "stream",
     "text": [
      "Generated V1 #questions: 800\n"
     ]
    },
    {
     "name": "stderr",
     "output_type": "stream",
     "text": [
      "100%|██████████| 800/800 [00:17<00:00, 46.16it/s]\n"
     ]
    },
    {
     "name": "stdout",
     "output_type": "stream",
     "text": [
      "Generated V1 Ling #questions: 3681\n"
     ]
    },
    {
     "name": "stderr",
     "output_type": "stream",
     "text": [
      "100%|██████████| 3681/3681 [01:17<00:00, 47.39it/s]\n"
     ]
    },
    {
     "name": "stdout",
     "output_type": "stream",
     "text": [
      "Generated V2 #questions: 800\n"
     ]
    },
    {
     "name": "stderr",
     "output_type": "stream",
     "text": [
      "100%|██████████| 800/800 [00:17<00:00, 46.32it/s]\n"
     ]
    },
    {
     "name": "stdout",
     "output_type": "stream",
     "text": [
      "Generated V2 Ling #questions: 3062\n"
     ]
    },
    {
     "name": "stderr",
     "output_type": "stream",
     "text": [
      "100%|██████████| 3062/3062 [01:04<00:00, 47.70it/s]\n"
     ]
    },
    {
     "name": "stdout",
     "output_type": "stream",
     "text": [
      "Generated V3 #questions: 416\n"
     ]
    },
    {
     "name": "stderr",
     "output_type": "stream",
     "text": [
      "100%|██████████| 416/416 [00:08<00:00, 47.61it/s]\n"
     ]
    },
    {
     "name": "stdout",
     "output_type": "stream",
     "text": [
      "Generated V3 Ling #questions: 2134\n"
     ]
    },
    {
     "name": "stderr",
     "output_type": "stream",
     "text": [
      "100%|██████████| 2134/2134 [00:46<00:00, 46.20it/s]\n"
     ]
    }
   ],
   "source": [
    "from tqdm.auto import tqdm\n",
    "import torch\n",
    "\n",
    "scores = {}\n",
    "\n",
    "for dataset_name in datasets:\n",
    "    dataset = datasets[dataset_name]\n",
    "    scores[dataset_name] = []\n",
    "    print(dataset_name, \"#questions:\", len(dataset.question_list))\n",
    "\n",
    "    for question in tqdm(dataset.question_list):\n",
    "        if question.parent.node_type == NodeType.INFO:\n",
    "            # check if question is answerable by node text\n",
    "            qa_pair = {\n",
    "                'question': question.text,\n",
    "                'context':  question.parent.text\n",
    "            }\n",
    "            res = nlp(qa_pair)\n",
    "            score = res['score']\n",
    "            scores[dataset_name].append(qa_pair | {\"score\": score})\n",
    "\n",
    "    torch.save(scores[dataset_name], f\"qa_analysis/{dataset_name}_qa_scores.pt\")"
   ]
  },
  {
   "cell_type": "code",
   "execution_count": null,
   "metadata": {},
   "outputs": [],
   "source": [
    "import seaborn as sns\n",
    "import pandas"
   ]
  },
  {
   "cell_type": "code",
   "execution_count": 78,
   "metadata": {},
   "outputs": [
    {
     "name": "stdout",
     "output_type": "stream",
     "text": [
      "Human Train #questions: 2134 #scores: 269\n",
      "Human Test #questions: 2134 #scores: 167\n",
      "Generated V1 #questions: 2134 #scores: 800\n",
      "Generated V1 Ling #questions: 2134 #scores: 3681\n",
      "Generated V2 #questions: 2134 #scores: 800\n",
      "Generated V2 Ling #questions: 2134 #scores: 3062\n",
      "Generated V3 #questions: 2134 #scores: 416\n",
      "Generated V3 Ling #questions: 2134 #scores: 2134\n"
     ]
    }
   ],
   "source": [
    "ds_scores = []\n",
    "for dataset_name in datasets:\n",
    "    data = torch.load(f\"qa_analysis/{dataset_name}_qa_scores.pt\")\n",
    "    scores = [item['score'] for item in data]\n",
    "    print(dataset_name, \"#questions:\", len(dataset.question_list), \"#scores:\", len(scores))\n",
    "    for score in scores:\n",
    "        ds_scores.append({\"source\": dataset_name, \"score\": score})\n",
    "df = pandas.DataFrame(ds_scores)"
   ]
  },
  {
   "cell_type": "code",
   "execution_count": 83,
   "metadata": {},
   "outputs": [
    {
     "data": {
      "text/plain": [
       "<seaborn.axisgrid.FacetGrid at 0x7f2a603c8dc0>"
      ]
     },
     "execution_count": 83,
     "metadata": {},
     "output_type": "execute_result"
    },
    {
     "data": {
      "image/png": "[encoded data removed]",
      "text/plain": [
       "<Figure size 680.125x500 with 1 Axes>"
      ]
     },
     "metadata": {},
     "output_type": "display_data"
    }
   ],
   "source": [
    "sns.displot(df.reset_index(drop=True), x=\"score\", kind=\"kde\", hue='source', common_norm=False)"
   ]
  },
  {
   "cell_type": "code",
   "execution_count": 96,
   "metadata": {},
   "outputs": [
    {
     "name": "stdout",
     "output_type": "stream",
     "text": [
      "Human Train #questions: 2134 #scores: 2134\n",
      "Human Test #questions: 2134 #scores: 2134\n",
      "Generated V1 #questions: 2134 #scores: 2134\n",
      "Generated V1 Ling #questions: 2134 #scores: 2134\n",
      "Generated V2 #questions: 2134 #scores: 2134\n",
      "Generated V2 Ling #questions: 2134 #scores: 2134\n",
      "Generated V3 #questions: 2134 #scores: 2134\n",
      "Generated V3 Ling #questions: 2134 #scores: 2134\n"
     ]
    }
   ],
   "source": [
    "# Extract some bad example qa pairs\n",
    "bad_questions = {}\n",
    "\n",
    "for dataset_name in datasets:\n",
    "    data = torch.load(f\"qa_analysis/{dataset_name}_qa_scores.pt\")\n",
    "    print(dataset_name, \"#questions:\", len(dataset.question_list), \"#scores:\", len(scores))\n",
    "    bad_questions[dataset_name] = []\n",
    "    for item in data:\n",
    "        if item[\"score\"] < 0.0001:\n",
    "            bad_questions[dataset_name].append(item)\n",
    "\n",
    "        # if len(bad_questions[dataset_name]) > 5:\n",
    "        #     break"
   ]
  },
  {
   "cell_type": "code",
   "execution_count": 97,
   "metadata": {},
   "outputs": [
    {
     "data": {
      "text/plain": [
       "[{'question': 'Can I book first class?',\n",
       "  'context': 'Booking a \"Business\"  class ticket is allowed on flights which last more than 10 uninterrupted hours. Otherwise, only the cheapest flight class is reimbursable. A seat reservation is not reimbursable.',\n",
       "  'score': 1.056544761013356e-06},\n",
       " {'question': 'Can I book regional transportation?',\n",
       "  'context': \"You can book train tickets yourself (through the DB website, at their counter / ticket machine) or through the university's partner travel agency (Tel. +123456789). You can find contact information for the partner travel agency here.\",\n",
       "  'score': 3.0357628929778002e-05},\n",
       " {'question': 'What is counted as an ancillary cost?',\n",
       "  'context': 'Incidental costs are, e.g.,: Insurances Visa fees \\n Conference meals \\n Parking fees \\n Oversized baggage fees \\n Conference fees \\n Credit card fees \\n Cloakroom fees \\n Entrance costs \\n Postage costs \\n Vaccinations',\n",
       "  'score': 2.633099484228296e-06},\n",
       " {'question': 'What trainings are offered on risk management?',\n",
       "  'context': 'Content: Why was it introduced: To show the services provided both internally and from MDMedicus \\n Necessary changes to the process \\n Question round \\n Right now there are no offers available.',\n",
       "  'score': 8.375945071747992e-06},\n",
       " {'question': 'How long can a private trip extension be?',\n",
       "  'context': 'A private extension to a trip must remain in proportion to the length of business-related travel. Business interests must remain the priority. For questions, please contact the travel department.',\n",
       "  'score': 7.448656833730638e-05},\n",
       " {'question': \"How do I book a flight when I'm adding vacation too?\",\n",
       "  'context': 'Costs which occur as part of the business aspect of a trip are reimbursable. Therefore, you will need to collect a comparison offer calculating what the costs would be for only the business related aspects of the trip.',\n",
       "  'score': 2.7426517590356525e-07},\n",
       " {'question': \"What do I need to worry about when booking if I'm extending my trip privately?\",\n",
       "  'context': 'Costs which occur as part of the business aspect of a trip are reimbursable. Therefore, you will need to collect a comparison offer calculating what the costs would be for only the business related aspects of the trip.',\n",
       "  'score': 2.5428381178471682e-08},\n",
       " {'question': 'Can I book regional transportation?',\n",
       "  'context': 'You can book tickets for public transportation yourself',\n",
       "  'score': 6.613037385250209e-06},\n",
       " {'question': 'Can I book any hotel I want?',\n",
       "  'context': \"Hotels can be booked using the university's partner travel agency, through a booking portal, or booked directly The contact for the partner travel agency can be found here. The university recommends these hotels.\",\n",
       "  'score': 1.8221411664853804e-05},\n",
       " {'question': 'Am I obligated to pay a resort tax or overnight tax within Germany?',\n",
       "  'context': 'A trip taken for purely business reasons is tax free. This needs to be proven to your accommodation by the time you check-out at the latest (e.g., invoice recipient is the university or the accommodation was booked through the university).',\n",
       "  'score': 1.0719220881583169e-05},\n",
       " {'question': 'How expensive can accommodations be outside of the country?',\n",
       "  'context': 'In {{ COUNTRY }} you have a budget of up to 90€ (or 120€ in cities with a population of more than 100,000 or generally/seasonally high hotel prices) for accommodations, so long as you present proof of a paid invoice. ',\n",
       "  'score': 8.14844315755181e-05},\n",
       " {'question': 'What is the maximum that accommodations are allowed to cost for stays outside of the country?',\n",
       "  'context': 'In {{ COUNTRY }} you have a budget of up to 90€ (or 120€ in cities with a population of more than 100,000 or generally/seasonally high hotel prices) for accommodations, so long as you present proof of a paid invoice. ',\n",
       "  'score': 3.596371607272886e-05},\n",
       " {'question': 'I was charged a fee while using my credit card',\n",
       "  'context': 'Credit card fees are reimbursable.',\n",
       "  'score': 3.4006677651632344e-06},\n",
       " {'question': 'I have to ship something, will the university pay for it?',\n",
       "  'context': 'Postal fees are reimbursable if they are required for business reasons.',\n",
       "  'score': 5.0447368948880467e-08},\n",
       " {'question': 'What percent of my parking fees will be covered by the university?',\n",
       "  'context': 'Parking fees are refundable if there was a pressing reason. Pressing reasons are, e.g.: There was no public transportation \\n You needed to visit multiple business-related locations \\n You were transporting large or heavy luggage/equipment',\n",
       "  'score': 7.883299701916258e-08},\n",
       " {'question': 'What insurances should I book?',\n",
       "  'context': 'Expenses for insurances (e.g., Travel insurance, liability insurance, etc.) are generally not reimbursable. Exceptions include for business trips outside of the country: If health insurance is required to enter the country, this can be reimbursed.',\n",
       "  'score': 5.186960697756149e-05},\n",
       " {'question': 'Which insurances are reimbursable?',\n",
       "  'context': 'Expenses for insurances (e.g., Travel insurance, liability insurance, etc.) are generally not reimbursable. Exceptions include for business trips outside of the country: If health insurance is required to enter the country, this can be reimbursed.',\n",
       "  'score': 6.681453612600308e-09},\n",
       " {'question': 'Is there a maximum length of time for the per diem outside of Germany?',\n",
       "  'context': 'Beginning on the 15th day, your per diem will be reduced to {{ 0.75 *  PERDIEM.AMOUNT(COUNTRY, CITY) }} €.',\n",
       "  'score': 1.4815587974226219e-06},\n",
       " {'question': 'How long will the per diem be paid in {{COUNTRY}}?',\n",
       "  'context': 'Beginning on the 15th day, your per diem will be reduced to {{ 0.75 *  PERDIEM.AMOUNT(COUNTRY, CITY) }} €.',\n",
       "  'score': 5.358173780223296e-07},\n",
       " {'question': 'How much money do I get for meals each day outside of Germany?',\n",
       "  'context': 'In {{ COUNTRY }}, you are entitled to {{ PERDIEM.AMOUNT(COUNTRY, CITY) }} €  per day, minus any free meals which you choose to decline.',\n",
       "  'score': 2.6621980850904947e-06},\n",
       " {'question': 'What is considered my office if I take a research semester?',\n",
       "  'context': 'As part of a reallocation/delegation, your office is relocated (no longer in CITY) ',\n",
       "  'score': 4.248200902168264e-09},\n",
       " {'question': 'Does my office remain the same during a research semester?',\n",
       "  'context': 'As part of a reallocation/delegation, your office is relocated (no longer in CITY) ',\n",
       "  'score': 2.359974678256549e-05},\n",
       " {'question': \"I'm traveling to a risk area, what do I need to watch out for?\",\n",
       "  'context': 'Please use the country database  to inform yourself about possible  Risks related to your trip. It is required to confirm that you have checked this information and gotten necessary advice as part of your travel application.  Your supervisor will confirm this when signing the form giving you permission to travel',\n",
       "  'score': 3.5009194107260555e-05},\n",
       " {'question': \"I'm not being allowed to leave the country, how do I get help?\",\n",
       "  'context': 'What do I do in an emergency on a business trip? Please call the number listed on the Emergency-Card :  +123456789. The Emergency-Card is also available in business card format. For more information, please enquire with the business travel department or your institute. This phone number is for emergencies only! Do not distribute it. Emergency App24/7 Emergency calling, Text chat, Video advice per the Emergency call Business App for iOS and AndroidDownload link: Notfall-AppQR-Code:Registration code: Note: distributing the registration code to third parties is strictly prohibited.',\n",
       "  'score': 2.031773328781128e-05},\n",
       " {'question': 'What do I do in a medical emergency?',\n",
       "  'context': 'What do I do in an emergency on a business trip? Please call the number listed on the Emergency-Card :  +123456789. The Emergency-Card is also available in business card format. For more information, please enquire with the business travel department or your institute. This phone number is for emergencies only! Do not distribute it. Emergency App24/7 Emergency calling, Text chat, Video advice per the Emergency call Business App for iOS and AndroidDownload link: Notfall-AppQR-Code:Registration code: Note: distributing the registration code to third parties is strictly prohibited.',\n",
       "  'score': 1.138548544332707e-08},\n",
       " {'question': 'When should I try to get help?',\n",
       "  'context': 'Emergencies are, e.g.: Evacuations \\n Theft \\n Accidents \\n Public unrest \\n Natural disasters \\n Security threats (e.g., robbery, threats, blackmail) \\n Restrictions entering or leaving a country (e.g., not being allowed to leave a country because of corona)',\n",
       "  'score': 1.567375147715211e-05},\n",
       " {'question': \"What if I can't afford to pay for the whole trip in advance?\",\n",
       "  'context': 'You can use the following form application for advancement of travel reimbursement to apply for an advance of you travel reimbursement. This can be submitted through your institute.',\n",
       "  'score': 4.64855747850379e-06},\n",
       " {'question': 'I forgot my employee number',\n",
       "  'context': 'You can find your employee number on your pay stub.',\n",
       "  'score': 3.843617424337253e-09},\n",
       " {'question': 'How much money do I get for food in Germany?',\n",
       "  'context': 'For business trips lasting less than 8 hours, you are not entitled to a per diem.',\n",
       "  'score': 3.912155221996727e-08},\n",
       " {'question': 'What is the per diem for travel within Germany?',\n",
       "  'context': 'For business trips lasting less than 8 hours, you are not entitled to a per diem.',\n",
       "  'score': 1.1541149547156238e-07},\n",
       " {'question': 'What types of accommodation can I book for a research semester?',\n",
       "  'context': 'If you are traveling for more than 4 weeks and need help finding accommodations, please contact the business travel department.',\n",
       "  'score': 4.4741485516475166e-10},\n",
       " {'question': 'How long can I stay in a hotel for if I am taking a research semester?',\n",
       "  'context': 'If you are traveling for more than 4 weeks and need help finding accommodations, please contact the business travel department.',\n",
       "  'score': 6.321898126770975e-06},\n",
       " {'question': 'What do I need to keep in mind if looking for an apartment during my research semester?',\n",
       "  'context': 'If you are traveling for more than 4 weeks and need help finding accommodations, please contact the business travel department.',\n",
       "  'score': 3.977135953903144e-09},\n",
       " {'question': 'Who is responsible for the costs if I miss my flight?',\n",
       "  'context': 'If you are not at fault (e.g., a conference ran over), costs can be reimbursed if a suitable justification is presented',\n",
       "  'score': 3.884983073021431e-07},\n",
       " {'question': 'Who has to pay for it if I miss my train connection?',\n",
       "  'context': 'If you are not at fault (e.g., a conference ran over), costs can be reimbursed if a suitable justification is presented',\n",
       "  'score': 7.613677865947466e-08},\n",
       " {'question': 'How high is the per diem for travel within Germany if I am gone for more than 24 hours?',\n",
       "  'context': 'Within Germany, you are entitled to 24€ per day, minus costs for free meals which were not eaten.',\n",
       "  'score': 1.9256622181273997e-05}]"
      ]
     },
     "execution_count": 97,
     "metadata": {},
     "output_type": "execute_result"
    }
   ],
   "source": [
    "bad_questions['Human Train']"
   ]
  },
  {
   "cell_type": "code",
   "execution_count": 99,
   "metadata": {},
   "outputs": [
    {
     "data": {
      "text/plain": [
       "[{'question': 'What is the cheapest flight class that is reimbursable for flights under 10 uninterrupted hours?',\n",
       "  'context': 'Booking a \"Business\"  class ticket is allowed on flights which last more than 10 uninterrupted hours. Otherwise, only the cheapest flight class is reimbursable. A seat reservation is not reimbursable.',\n",
       "  'score': 6.661098450422287e-05},\n",
       " {'question': 'Can I skip asking my supervisor for an intracity trip?',\n",
       "  'context': \"Verbal permission is required from your supervisor for an intracity business trip. Please don't forget to get this. Written permission is not necessary\",\n",
       "  'score': 6.588458927581087e-05},\n",
       " {'question': 'What is the role of RKI in providing travel warnings and restrictions related to COVID-19?',\n",
       "  'context': 'Please check the current COVID-19 travel warnings travel restrictions from the foreign ministry and the RKI. Business trips to high risk areas or virus variation areas are not generally not allowed. In In extreme cases, authorization can be given by the leadership of Department 4 (Administrative Department).',\n",
       "  'score': 4.0572335819888394e-06},\n",
       " {'question': 'Can you book a first class train ticket for distances under 100km?',\n",
       "  'context': 'Booking a first class train ticket is only allowed for distances of more than 100km.',\n",
       "  'score': 4.359484440108474e-10},\n",
       " {'question': 'Is it possible to book a first class train ticket for distances under 100km?',\n",
       "  'context': 'Booking a first class train ticket is only allowed for distances of more than 100km.',\n",
       "  'score': 3.7012674170000537e-07},\n",
       " {'question': 'Can I book a first class train ticket for a distance less than 100km?',\n",
       "  'context': 'Booking a first class train ticket is only allowed for distances of more than 100km.',\n",
       "  'score': 1.1555453482969824e-07},\n",
       " {'question': 'Are entrance fees refundable for personal activities?',\n",
       "  'context': 'Entrance fees are reimbursable so long as they are for business related activities.',\n",
       "  'score': 2.5899905722326366e-06},\n",
       " {'question': 'What is the amount you can get for meals in {{ COUNTRY }} if you decline free meals?',\n",
       "  'context': 'In {{ COUNTRY }}, you are entitled to {{ PERDIEM.AMOUNT(COUNTRY, CITY) }} €  per day, minus any free meals which you choose to decline.',\n",
       "  'score': 1.7259426385862753e-05},\n",
       " {'question': \"Where is my office now that it's been relocated?\",\n",
       "  'context': 'As part of a reallocation/delegation, your office is relocated (no longer in CITY) ',\n",
       "  'score': 3.191897485521622e-05},\n",
       " {'question': 'How many risk classes are there in the country database?',\n",
       "  'context': 'The country database is available in German and English.  Countries are divided into risk classes: green, yellow, and red. You can find more information here: Risk classes in the country database If you would like information about the Risk class of your destination, click here',\n",
       "  'score': 3.1086619856068864e-06},\n",
       " {'question': 'What is the role of RKI in relation to the current COVID-19 travel warnings and restrictions?',\n",
       "  'context': 'Please note the  current COVID-19 travel warnings posted by the  and restrictions foreign ministry and the RKI. Business trips to high risk or variant areas are generally not allowed. In extreme cases, permission can be petitioned for through the leadership of Department 4 (administrative department).',\n",
       "  'score': 2.3388647605315782e-05}]"
      ]
     },
     "execution_count": 99,
     "metadata": {},
     "output_type": "execute_result"
    }
   ],
   "source": [
    "bad_questions['Generated V3']"
   ]
  },
  {
   "cell_type": "code",
   "execution_count": null,
   "metadata": {},
   "outputs": [],
   "source": []
  }
 ],
 "metadata": {
  "kernelspec": {
   "display_name": "cts_en",
   "language": "python",
   "name": "python3"
  },
  "language_info": {
   "codemirror_mode": {
    "name": "ipython",
    "version": 3
   },
   "file_extension": ".py",
   "mimetype": "text/x-python",
   "name": "python",
   "nbconvert_exporter": "python",
   "pygments_lexer": "ipython3",
   "version": "3.10.8"
  },
  "orig_nbformat": 4
 },
 "nbformat": 4,
 "nbformat_minor": 2
}
