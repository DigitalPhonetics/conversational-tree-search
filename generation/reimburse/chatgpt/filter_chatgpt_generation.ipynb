{
 "cells": [
  {
   "cell_type": "markdown",
   "metadata": {},
   "source": [
    "# Filter generated data from ChatGPT\n",
    "\n",
    "1. Generation:\n",
    "    1. Generated questions data with ChatGPT, using the node text as context\n",
    "    2. Generated synonyms for the questions from 1)\n",
    "3. Filtering:\n",
    "    1. Asked ChatGPT to rate if the question was answerable using the node's context\n",
    "    2. This notebook: clean the unanswerable quesions from the generated data and save to new file"
   ]
  },
  {
   "cell_type": "code",
   "execution_count": 3,
   "metadata": {},
   "outputs": [
    {
     "name": "stdout",
     "output_type": "stream",
     "text": [
      "740 samples\n"
     ]
    }
   ],
   "source": [
    "import json\n",
    "\n",
    "with open(\"../../../resources/en/reimburse/generated/chatgpt/augmentation_with_judgement.json\", \"r\") as f:\n",
    "    data = json.load(f)\n",
    "\n",
    "print(len(data), \"samples\")"
   ]
  },
  {
   "cell_type": "code",
   "execution_count": 47,
   "metadata": {},
   "outputs": [
    {
     "name": "stdout",
     "output_type": "stream",
     "text": [
      "/mount/arbeitsdaten41/projekte/asr-2/vaethdk/cts_newcodebase_rollback/conversational-tree-search/generation/reimburse/chatgpt\n"
     ]
    }
   ],
   "source": [
    "import sys\n",
    "import os \n",
    "\n",
    "sys.path.append('../../..')\n",
    "print(os.path.realpath(\".\"))"
   ]
  },
  {
   "cell_type": "code",
   "execution_count": 44,
   "metadata": {},
   "outputs": [
    {
     "name": "stdout",
     "output_type": "stream",
     "text": [
      "Unmatched judgmenent responses: set()\n",
      "0\n",
      "Positive matches: 363\n",
      "Negative matches: 366\n",
      "Undecided: 11\n"
     ]
    }
   ],
   "source": [
    "judgements = set()\n",
    "\n",
    "positive_start_keys = [\"Yes.\", \"The answer is yes.\", \"Yes,\", \"The given text answers the question\", \"The answer is:\", \"The per diem reduction is a percentage.\"]\n",
    "positive_end_keys = [\"the answer is yes.\", \"Therefore, the answer is yes, but only if there is a pressing personal reason.\"]\n",
    "undecided_keys = [\"it does not answer the question with a simple yes or no\", \"it does not directly answer the question\", \"The answer is unclear.\", \"The answer is not explicitly given in the text.\",\n",
    "                  'The given text does not directly answer the question.', \"The given text partially answers the question.\"]\n",
    "negative_start_keys = [\"No.\", \"The given text does not answer the question\", \"The given text does not provide a clear answer\", \"The answer is no.\",\n",
    "                \"The given text does not provide an answer to the question.\", \"The given text does not provide information about\", \"There is no evidence in the given text to answer the question.\"]\n",
    "negative_end_keys = [\"Therefore, the answer is no.\"]\n",
    "\n",
    "filtered = []\n",
    "undecided = []\n",
    "remove = []\n",
    "\n",
    "for sample_key in data:\n",
    "    sample = data[sample_key]\n",
    "    dialog_node_key = sample['dialog_node_key']\n",
    "    question = sample['text']\n",
    "    synonyms = sample['synonyms']\n",
    "    judgement = sample['judgement']\n",
    "\n",
    "    keep = False\n",
    "    for positive_key in positive_start_keys:\n",
    "        if judgement.startswith(positive_key):\n",
    "            filtered.append(sample)\n",
    "            keep = True\n",
    "            break\n",
    "    if not keep:\n",
    "        for positive_key in positive_end_keys:\n",
    "            if judgement.endswith(positive_key):\n",
    "                filtered.append(sample)\n",
    "                keep = True\n",
    "                break\n",
    "    if not keep:\n",
    "        negative_match = False\n",
    "        for negative_key in negative_start_keys:\n",
    "            if judgement.startswith(negative_key):\n",
    "                remove.append(sample)\n",
    "                negative_match = True\n",
    "                break\n",
    "        if not negative_match:\n",
    "            for negative_key in negative_end_keys:\n",
    "                if judgement.endswith(negative_key):\n",
    "                    remove.append(sample)\n",
    "                    negative_match = True\n",
    "                    break\n",
    "        if not negative_match:\n",
    "            # check undecided\n",
    "            for undecided_key in undecided_keys:\n",
    "                if undecided_key in judgement:\n",
    "                    undecided.append(sample)\n",
    "                    negative_match = True\n",
    "                    break\n",
    "        if not negative_match:\n",
    "            judgements.add(judgement)\n",
    "            print(sample)\n",
    "    \n",
    "\n",
    "print(\"Unmatched judgmenent responses:\", judgements)\n",
    "print(len(judgements))\n",
    "print(\"Positive matches:\", len(filtered))\n",
    "print(\"Negative matches:\", len(remove))\n",
    "print(\"Undecided:\", len(undecided))"
   ]
  },
  {
   "cell_type": "code",
   "execution_count": 52,
   "metadata": {},
   "outputs": [
    {
     "name": "stdout",
     "output_type": "stream",
     "text": [
      "- not using synonyms\n",
      "===== Dataset Statistics =====\n",
      "- files:  en/reimburse/train_graph.json en/reimburse/train_answers.json\n",
      "- synonyms: False\n",
      "- depth: 20  - degree: 13\n",
      "- answers: 73\n",
      "- questions: 279\n",
      "- loaded original data: True\n",
      "- loaded generated data: False\n",
      "- question limit: 0  - maximum loaded:  7\n",
      "- answer limit: 0  - maximum loaded:  1\n"
     ]
    }
   ],
   "source": [
    "from data.dataset import ReimburseGraphDataset, DataAugmentationLevel, NodeType\n",
    "human_data_train = ReimburseGraphDataset('en/reimburse/train_graph.json', 'en/reimburse/train_answers.json', False, augmentation=DataAugmentationLevel.NONE, resource_dir=\"../../../resources\", language=\"en\")"
   ]
  },
  {
   "cell_type": "code",
   "execution_count": 54,
   "metadata": {},
   "outputs": [
    {
     "name": "stdout",
     "output_type": "stream",
     "text": [
      "Final dataset size 2178\n"
     ]
    }
   ],
   "source": [
    "# Add synonyms of accepted answers and format all data to match data loader\n",
    "import time \n",
    "\n",
    "\n",
    "filtered_with_synonyms = []\n",
    "for sample in filtered:\n",
    "    node = human_data_train.nodes_by_key[sample['dialog_node_key']]\n",
    "    if node.node_type == NodeType.INFO:\n",
    "        filtered_with_synonyms.append({\n",
    "            'key': str(time.time()).replace(\".\", \"\"),\n",
    "            'dialog_node_key': sample['dialog_node_key'],\n",
    "            'text': sample['text'],\n",
    "            'node_text': node.text,\n",
    "            'node_type': node.node_type.value\n",
    "        })\n",
    "        for synonym in sample['synonyms']:\n",
    "            filtered_with_synonyms.append({\n",
    "                'key': str(time.time()).replace(\".\", \"\"),\n",
    "                'dialog_node_key': sample['dialog_node_key'],\n",
    "                'text': synonym,\n",
    "                'node_text': node.text,\n",
    "                'node_type': node.node_type.value\n",
    "            })\n",
    "    else:\n",
    "        print(\"SKIPPING NODE TYPE\", node.node_type.value)\n",
    "\n",
    "print(\"Final dataset size\", len(filtered_with_synonyms))"
   ]
  },
  {
   "cell_type": "code",
   "execution_count": 56,
   "metadata": {},
   "outputs": [],
   "source": [
    "with open(\"../../../resources/en/reimburse/generated/chatgpt/train_questions_filtered_synonyms.json\", \"w\") as f:\n",
    "    json.dump(filtered_with_synonyms, f)"
   ]
  },
  {
   "cell_type": "code",
   "execution_count": null,
   "metadata": {},
   "outputs": [],
   "source": []
  }
 ],
 "metadata": {
  "kernelspec": {
   "display_name": "cts_en",
   "language": "python",
   "name": "python3"
  },
  "language_info": {
   "codemirror_mode": {
    "name": "ipython",
    "version": 3
   },
   "file_extension": ".py",
   "mimetype": "text/x-python",
   "name": "python",
   "nbconvert_exporter": "python",
   "pygments_lexer": "ipython3",
   "version": "3.10.8"
  }
 },
 "nbformat": 4,
 "nbformat_minor": 2
}
