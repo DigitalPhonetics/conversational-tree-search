{
 "cells": [
  {
   "cell_type": "markdown",
   "metadata": {},
   "source": [
    "# Filter generated data from ChatGPT\n",
    "\n",
    "1. Generation:\n",
    "    1. Generated questions data with ChatGPT, using the node text as context\n",
    "    2. Generated synonyms for the questions from 1)\n",
    "3. Filtering:\n",
    "    1. Asked ChatGPT to rate if the question was answerable using the node's context\n",
    "    2. This notebook: clean the unanswerable quesions from the generated data and save to new file"
   ]
  },
  {
   "cell_type": "code",
   "execution_count": 1,
   "metadata": {},
   "outputs": [
    {
     "name": "stdout",
     "output_type": "stream",
     "text": [
      "740 samples\n"
     ]
    }
   ],
   "source": [
    "import json\n",
    "\n",
    "with open(\"../../../resources/en/reimburse/generated/chatgpt/augmentation_with_judgement.json\", \"r\") as f:\n",
    "    data = json.load(f)\n",
    "\n",
    "print(len(data), \"samples\")"
   ]
  },
  {
   "cell_type": "code",
   "execution_count": 2,
   "metadata": {},
   "outputs": [
    {
     "name": "stdout",
     "output_type": "stream",
     "text": [
      "/mount/arbeitsdaten41/projekte/asr-2/vaethdk/cts_newcodebase_rollback/conversational-tree-search/generation/reimburse/chatgpt\n"
     ]
    }
   ],
   "source": [
    "import sys\n",
    "import os \n",
    "\n",
    "sys.path.append('../../..')\n",
    "print(os.path.realpath(\".\"))"
   ]
  },
  {
   "cell_type": "code",
   "execution_count": 3,
   "metadata": {},
   "outputs": [
    {
     "name": "stdout",
     "output_type": "stream",
     "text": [
      "Unmatched judgmenent responses: set()\n",
      "0\n",
      "Positive matches: 363\n",
      "Negative matches: 366\n",
      "Undecided: 11\n"
     ]
    }
   ],
   "source": [
    "judgements = set()\n",
    "\n",
    "positive_start_keys = [\"Yes.\", \"The answer is yes.\", \"Yes,\", \"The given text answers the question\", \"The answer is:\", \"The per diem reduction is a percentage.\"]\n",
    "positive_end_keys = [\"the answer is yes.\", \"Therefore, the answer is yes, but only if there is a pressing personal reason.\"]\n",
    "undecided_keys = [\"it does not answer the question with a simple yes or no\", \"it does not directly answer the question\", \"The answer is unclear.\", \"The answer is not explicitly given in the text.\",\n",
    "                  'The given text does not directly answer the question.', \"The given text partially answers the question.\"]\n",
    "negative_start_keys = [\"No.\", \"The given text does not answer the question\", \"The given text does not provide a clear answer\", \"The answer is no.\",\n",
    "                \"The given text does not provide an answer to the question.\", \"The given text does not provide information about\", \"There is no evidence in the given text to answer the question.\"]\n",
    "negative_end_keys = [\"Therefore, the answer is no.\"]\n",
    "\n",
    "filtered = []\n",
    "undecided = []\n",
    "remove = []\n",
    "\n",
    "for sample_key in data:\n",
    "    sample = data[sample_key]\n",
    "    dialog_node_key = sample['dialog_node_key']\n",
    "    question = sample['text']\n",
    "    synonyms = sample['synonyms']\n",
    "    judgement = sample['judgement']\n",
    "\n",
    "    keep = False\n",
    "    for positive_key in positive_start_keys:\n",
    "        if judgement.startswith(positive_key):\n",
    "            filtered.append(sample)\n",
    "            keep = True\n",
    "            break\n",
    "    if not keep:\n",
    "        for positive_key in positive_end_keys:\n",
    "            if judgement.endswith(positive_key):\n",
    "                filtered.append(sample)\n",
    "                keep = True\n",
    "                break\n",
    "    if not keep:\n",
    "        negative_match = False\n",
    "        for negative_key in negative_start_keys:\n",
    "            if judgement.startswith(negative_key):\n",
    "                remove.append(sample)\n",
    "                negative_match = True\n",
    "                break\n",
    "        if not negative_match:\n",
    "            for negative_key in negative_end_keys:\n",
    "                if judgement.endswith(negative_key):\n",
    "                    remove.append(sample)\n",
    "                    negative_match = True\n",
    "                    break\n",
    "        if not negative_match:\n",
    "            # check undecided\n",
    "            for undecided_key in undecided_keys:\n",
    "                if undecided_key in judgement:\n",
    "                    undecided.append(sample)\n",
    "                    negative_match = True\n",
    "                    break\n",
    "        if not negative_match:\n",
    "            judgements.add(judgement)\n",
    "            print(sample)\n",
    "    \n",
    "\n",
    "print(\"Unmatched judgmenent responses:\", judgements)\n",
    "print(len(judgements))\n",
    "print(\"Positive matches:\", len(filtered))\n",
    "print(\"Negative matches:\", len(remove))\n",
    "print(\"Undecided:\", len(undecided))"
   ]
  },
  {
   "cell_type": "code",
   "execution_count": 4,
   "metadata": {},
   "outputs": [
    {
     "name": "stdout",
     "output_type": "stream",
     "text": [
      "- not using synonyms\n",
      "===== Dataset Statistics =====\n",
      "- files:  en/reimburse/train_graph.json en/reimburse/train_answers.json\n",
      "- synonyms: False\n",
      "- depth: 20  - degree: 13\n",
      "- answers: 73\n",
      "- questions: 279\n",
      "- loaded original data: True\n",
      "- loaded generated data: False\n",
      "- question limit: 0  - maximum loaded:  7\n",
      "- answer limit: 0  - maximum loaded:  1\n"
     ]
    }
   ],
   "source": [
    "from data.dataset import ReimburseGraphDataset, DataAugmentationLevel, NodeType\n",
    "human_data_train = ReimburseGraphDataset('en/reimburse/train_graph.json', 'en/reimburse/train_answers.json', False, augmentation=DataAugmentationLevel.NONE, resource_dir=\"../../../resources\", language=\"en\")"
   ]
  },
  {
   "cell_type": "code",
   "execution_count": 7,
   "metadata": {},
   "outputs": [
    {
     "name": "stdout",
     "output_type": "stream",
     "text": [
      "Final dataset size 2178\n"
     ]
    }
   ],
   "source": [
    "# Add synonyms of accepted answers and format all data to match data loader\n",
    "import time \n",
    "\n",
    "\n",
    "filtered_with_synonyms = {}\n",
    "for sample in filtered:\n",
    "    node = human_data_train.nodes_by_key[sample['dialog_node_key']]\n",
    "    if node.node_type == NodeType.INFO:\n",
    "        key = str(time.time()).replace(\".\", \"\")\n",
    "        filtered_with_synonyms[key] = {\n",
    "            'key': key,\n",
    "            'dialog_node_key': sample['dialog_node_key'],\n",
    "            'text': sample['text'],\n",
    "            'node_text': node.text,\n",
    "            'node_type': node.node_type.value\n",
    "        }\n",
    "        for synonym in sample['synonyms']:\n",
    "            key = str(time.time()).replace(\".\", \"\")\n",
    "            filtered_with_synonyms[key] = {\n",
    "                'key': key,\n",
    "                'dialog_node_key': sample['dialog_node_key'],\n",
    "                'text': synonym,\n",
    "                'node_text': node.text,\n",
    "                'node_type': node.node_type.value\n",
    "            }\n",
    "    else:\n",
    "        print(\"SKIPPING NODE TYPE\", node.node_type.value)\n",
    "\n",
    "print(\"Final dataset size\", len(filtered_with_synonyms))"
   ]
  },
  {
   "cell_type": "code",
   "execution_count": 8,
   "metadata": {},
   "outputs": [],
   "source": [
    "with open(\"../../../resources/en/reimburse/generated/chatgpt/train_questions_filtered_synonyms.json\", \"w\") as f:\n",
    "    json.dump(filtered_with_synonyms, f)"
   ]
  },
  {
   "cell_type": "code",
   "execution_count": 2,
   "metadata": {},
   "outputs": [
    {
     "name": "stdout",
     "output_type": "stream",
     "text": [
      "{'business trip': ['Work-related journey', 'Professional excursion', 'Corporate travel', 'Job-related expedition', 'Business excursion', 'Work trip', 'Company travel', 'Career-related voyage', 'Occupational journey', 'Business journey'], 'intracity business trip': ['A business trip within the city limits', 'A work-related journey within the city', 'A local business excursion', 'A professional visit within the city', 'A business expedition within the urban area', 'A work-related travel within the city boundaries', 'A business tour within the metropolitan area', 'A professional trip within the city limits', 'A local work-related excursion', 'A business visit within the city precincts'], 'what is the difference between an intracity business trip and a business trip?': ['How does an intracity business trip differ from a regular business trip?', 'What sets apart an intracity business trip from a typical business trip?', 'In what ways are intracity business trips distinct from regular business trips?', 'Can you explain the contrast between an intracity business trip and a business trip?', 'What distinguishes an intracity business trip from a standard business trip?', 'How do intracity business trips and business trips differ from each other?', 'What makes an intracity business trip different from a regular business trip?', 'What are the dissimilarities between an intracity business trip and a business trip?', 'What separates an intracity business trip from a typical business trip?', 'What are the contrasts between an intracity business trip and a business trip?'], 'book a trip': ['Reserve a journey', 'Schedule a travel', 'Arrange a trip', 'Plan a voyage', 'Secure a tour', 'Organize a getaway', 'Set up an expedition', 'Fix a jaunt', 'Confirm a pilgrimage', 'Procure a sojourn'], 'research semester': ['A semester dedicated to research', 'A term focused on conducting research', 'A period of time devoted to research', 'A semester for exploring research', 'A term for investigating research', 'A period of time for studying research', 'A semester for delving into research', 'A term for researching extensively', 'A period of time for conducting thorough research', 'A semester for immersing oneself in research.'], 'travel risk management': ['Managing the risks of traveling', 'Ensuring safety while traveling', 'Mitigating travel-related risks', 'Travel safety management', 'Risk management for business travel', 'Keeping safe during business trips', 'Managing travel-related hazards', 'Travel security management', 'Ensuring safe travels for employees', 'Minimizing risks during business travel'], 'problem/emergency during a business trip': ['Something unexpected happened while I was on a work trip.', 'I encountered an issue while traveling for business.', 'A crisis arose during my business travel.', 'I faced an unforeseen challenge while on a work trip.', 'An emergency occurred while I was away on business.', 'I experienced a setback during my business trip.', 'A problem arose that required my attention while I was traveling for work.', 'I had to deal with an unexpected situation while on a business trip.', 'A difficulty arose that disrupted my business travel plans.', 'I encountered an obstacle that required immediate attention while on a work trip.'], 'forms, deadlines, and procedures': ['The paperwork, due dates, and protocols', 'The documentation, cutoffs, and guidelines', 'The records, time limits, and steps', 'The applications, target dates, and processes', 'The paperwork, submission dates, and protocols', 'The forms, due dates, and methods', 'The documentation, deadlines, and routines', 'The records, timeframes, and procedures', 'The applications, deadlines, and protocols', 'The paperwork, cutoffs, and steps'], 'cancel a trip': ['Call off a journey', 'Scrap a travel plan', 'Abandon a trip', 'Nix a voyage', 'Drop a tour', 'Withdraw from a travel arrangement', 'Terminate a trip', 'Halt a journey', 'Suspend a travel plan', 'Put an end to a voyage'], 'no': [\"Sorry, I can't.\", \"I'm afraid that's not possible.\", 'I have to decline.', 'Negative.', 'Not a chance.', \"That's a no-go.\", \"I'm not able to do that.\", 'Unfortunately, no.', 'Regrettably, no.', 'Nope.'], 'ja': ['Yes', 'Affirmative', 'Indeed', 'Absolutely', 'Sure thing', 'You got it', 'Right on', 'Roger that', 'Okay', 'I agree'], 'yes': ['Sure thing!', 'Absolutely!', 'You got it!', 'No problem!', \"I'm on it!\", 'That works!', 'Of course!', 'Definitely!', 'Right away!', 'Consider it done!'], 'transportation': ['Getting around', 'Moving from place to place', 'Means of travel', 'Commuting', 'Transit', 'Conveyance', 'Getting from A to B', 'Transportation services', 'Traveling', 'Mobility'], 'what are incidental costs?': ['Can you explain what incidental expenses are?', 'What do you mean by incidental costs?', 'Could you clarify what incidental expenses entail?', 'Can you give me an idea of what incidental costs are?', 'What falls under the category of incidental expenses?', 'Can you define incidental costs for me?', 'What are the miscellaneous expenses that come under incidental costs?', 'Could you elaborate on what incidental expenses include?', 'What are the additional expenses that come under incidental costs?', 'Can you break down what incidental costs are?'], 'incidental costs': ['Additional expenses', 'Unforeseen charges', 'Supplementary fees', 'Unexpected costs', 'Secondary expenditures', 'Indirect expenses', 'Hidden charges', 'Non-essential costs', 'Peripheral fees', 'Accidental expenses'], 'accommodation': ['Lodging', 'Housing', 'Shelter', 'Residence', 'Boarding', 'Quarters', 'Domicile', 'Abode', 'Habitat', 'Living quarters'], 'per diem': ['Daily allowance', 'Daily stipend', 'Daily expense allowance', 'Daily spending money', 'Daily subsistence allowance', 'Daily meal allowance', 'Daily travel allowance', 'Daily living allowance', 'Daily food allowance', 'Daily lodging allowance'], 'request an advance': ['Can I get an advance payment?', 'Is it possible to receive an advance?', 'Would it be okay to request an advance?', 'Can I ask for an advance payment?', 'Is there any chance I could get an advance?', 'Could I possibly receive an advance payment?', 'Would it be alright to request an advance payment?', 'Can I inquire about an advance?', 'Is it feasible to ask for an advance payment?', 'Would it be acceptable to request an advance?'], 'train': [\"I'm thinking of taking the railway.\", 'I might hop on the train.', \"I'm considering traveling by rail.\", \"I'm contemplating taking the locomotive.\", \"I'm pondering taking the express.\", \"I'm mulling over taking the subway.\", \"I'm weighing up taking the underground.\", \"I'm thinking about taking the commuter train.\", \"I'm considering taking the intercity train.\", \"I'm contemplating taking the high-speed rail.\"], 'public transit': ['Using the local transportation system', 'Taking the bus or train', 'Utilizing public transportation', 'Riding the subway or tram', 'Commuting via mass transit', \"Traveling on the city's public transit network\", 'Using the public transportation infrastructure', 'Taking advantage of the local transit system', \"Using the city's public transportation options\", 'Opting for public transit instead of driving.'], 'personal car': ['My own vehicle', 'My private automobile', 'My personal ride', 'My individual car', 'My exclusive transportation', 'My personal vehicle', 'My private car', 'My own mode of transportation', 'My individual automobile', 'My exclusive car'], 'rental car': ['Car rental', 'Hiring a car', 'Renting a vehicle', 'Car hire', 'Vehicle rental', 'Rent-a-car', 'Auto rental', 'Car leasing', 'Car borrowing', 'Car loaning'], 'taxi': ['Cab', 'Car service', 'Ride-hailing', 'Transportation service', 'Car rental', 'Private car', 'Shuttle', 'Car-for-hire', 'Chauffeured vehicle', 'Car ride'], 'flight': ['Air travel', 'Boarding a plane', 'Taking off in an airplane', 'Flying to a destination', 'Catching a flight', 'Jetting off to a new place', 'Airborne transportation', 'Embarking on a plane journey', 'Aerial voyage', 'Soaring through the skies'], 'i want to book different transportation': [\"I'm looking to arrange alternative transportation.\", 'I need to reserve a different mode of transportation.', \"I'm interested in booking a different means of travel.\", 'I want to secure a different form of transportation.', \"I'm considering booking a different way to get around.\", \"I'm thinking about arranging different transportation options.\", \"I'm exploring other transportation possibilities.\", \"I'm in the market for a different mode of travel.\", \"I'm searching for alternative transportation options.\", \"I'm hoping to book a different way to get from point A to point B.\"], 'what is a reallocation/delegation?': ['Can you explain what reallocating/delegating means?', 'What does it mean to reallocate/delegate?', 'Could you define reallocation/delegation for me?', 'How would you describe reallocation/delegation?', 'Can you give me a rundown of reallocation/delegation?', \"What's the definition of reallocation/delegation?\", 'How do you define reallocation/delegation?', 'What exactly is reallocation/delegation?', 'Can you clarify what reallocation/delegation entails?', \"What's the meaning of reallocation/delegation?\"], 'alone': ['By myself', 'Solo', 'All by my lonesome', 'Without company', 'Flying solo', 'Unaccompanied', 'Single-handedly', 'Isolated', 'Solitary', 'On my own'], 'with family': ['Along with my loved ones', 'In the company of my kin', 'Together with my relatives', 'With my nearest and dearest', 'In the presence of my family', 'Accompanied by my folks', 'Surrounded by my clan', 'In the midst of my household', 'With my dear ones', 'In the embrace of my family'], 'training opportunities': ['Learning prospects', 'Educational chances', 'Instructional possibilities', 'Development options', 'Teaching openings', 'Knowledge-building opportunities', 'Skill-enhancement prospects', 'Professional growth chances', 'Training openings', 'Educational openings'], 'what do i need to consider?': ['What factors should I take into account?', 'What should I keep in mind?', 'What are the important things to think about?', 'What should I be mindful of?', 'What are the key considerations?', 'What factors should I bear in mind?', 'What should I take into consideration?', 'What are the things I need to think about?', 'What should I factor in?', 'What are the important aspects to consider?'], 'emergency help': ['Urgent assistance', 'Immediate aid', 'Critical support', 'Pressing relief', 'Vital backup', 'Essential rescue', 'Crucial intervention', 'Sudden aid', 'Acute assistance', 'Emergency relief'], 'before the start of a business trip': ['Prior to embarking on a work-related journey', 'Before hitting the road for a business excursion', 'Preceding the commencement of a corporate travel', 'Ahead of a professional trip', 'Prior to setting off on a business expedition', 'Before departing for a work-related voyage', 'Pre-travel arrangements for a business trip', 'Preparations before a corporate excursion', 'Before the start of a work-related adventure', 'Pre-departure arrangements for a business journey'], 'emergency during a business trip': [\"When something unexpected happens while I'm on a work trip.\", 'Dealing with an urgent situation while traveling for business.', \"A sudden crisis that occurs while I'm away on business.\", 'Managing an unforeseen event during a work-related journey.', 'Coping with an emergency while on a business excursion.', 'Handling an unplanned incident while traveling for work.', 'Responding to an unexpected situation during a business trip.', 'Dealing with an urgent matter while on a work-related travel.', \"Managing a crisis that arises while I'm away on business.\", 'Coping with an unforeseen event during a business journey.'], \"information about countries' risk categories\": ['Details on the risk categories of different countries', 'Facts regarding the risk levels of various nations', 'Insights into the risk classifications of different countries', 'Knowledge about the risk categories assigned to various nations', 'Data on the risk levels of different countries', 'Information on the risk assessments of various nations', 'Intelligence on the risk categories of different countries', 'Reports on the risk classifications of various nations', 'Statistics on the risk levels of different countries', 'Updates on the risk categories assigned to various nations'], 'insurance': ['Coverage protection', 'Risk management', 'Policy safeguard', 'Assurance plan', 'Security coverage', 'Protection policy', 'Safety net', 'Shielding coverage', 'Coverage plan', 'Coverage security'], 'oversized/overweight baggage': ['Luggage that exceeds the size or weight limit', 'Baggage that is too big or heavy', 'Bulky or heavy suitcases', 'Excessively large or heavy bags', 'Oversized or overweight luggage', 'Bags that are too big or too heavy', 'Extra-large or overweight baggage', 'Suitcases that exceed the size or weight restrictions', \"Bulky or heavy bags that don't meet the requirements\", 'Luggage that is too large or too heavy for travel.'], 'conference': ['A gathering of professionals', 'A meeting of minds', 'A symposium of experts', 'A convention of colleagues', 'A summit of specialists', 'A congress of peers', 'A forum of professionals', 'A convocation of delegates', 'A assembly of industry leaders', 'A seminar of like-minded individuals'], 'credit card fees': ['Charges for using a credit card', 'Fees associated with credit card usage', 'Costs for using a credit card', 'Expenses related to credit card transactions', 'Payments for credit card usage', 'Dues for using a credit card', 'Levies for credit card transactions', 'Tariffs for using a credit card', 'Assessments for credit card usage', 'Prices for credit card transactions'], 'cloakroom fees': ['Charges for storing personal items', 'Fees for checking in belongings', 'Costs for leaving your coat and bag', 'Payments for temporary storage', 'Expenses for holding onto your items', 'Prices for securing your possessions', 'Rates for storing your coat and luggage', 'Fees for temporary storage of personal items', 'Charges for checking in your belongings', 'Costs for holding onto your coat and bag'], 'entrance fees': ['Admission charges', 'Entry costs', 'Access fees', 'Ticket prices', 'Gateway tariffs', 'Doorway expenses', 'Portal payments', 'Admission expenses', 'Entry fees', 'Access charges'], 'mail fees': ['Charges for sending mail', 'Postal expenses', 'Fees for postage', 'Cost of mailing', 'Charges for postal services', 'Expenses for sending letters', 'Fees for sending packages', 'Postal charges', 'Cost of postage', 'Charges for mailing services'], 'visa fees': ['Charges for obtaining a visa', 'The cost of a visa application', 'Fees associated with visa processing', 'Expenses for acquiring a visa', 'The price of a visa', 'The amount required for a visa', 'The fee for a visa issuance', 'The cost of a visa permit', 'Charges for a visa approval', 'The fee for a visa stamp'], 'conference meals ': ['Food provided during a conference', 'Meals served at a business event', 'Catered food at a professional gathering', 'Conference catering services', 'Business meeting cuisine', 'Food served at a corporate event', 'Conference dining options', 'Professional gathering refreshments', 'Business event sustenance', 'Conference meal provisions'], 'vaccinations': ['Immunizations', 'Inoculations', 'Shots', 'Jabs', 'Vaccines', 'Preventive injections', 'Protective shots', 'Antidotes', 'Serums', 'Prophylactics'], 'parking fees': ['Charges for parking', 'Fees for parking', 'Costs for parking', 'Expenses for parking', 'Payments for parking', 'Tariffs for parking', 'Rates for parking', 'Prices for parking', 'Dues for parking', 'Levies for parking'], 'telephone and/or internet fees': ['Charges for phone and internet usage', 'Costs associated with phone and internet services', 'Expenses for using phone and internet', 'Fees for telephone and internet access', 'Charges for using phone and internet connections', 'Costs for phone and internet connectivity', 'Expenses for phone and internet usage', 'Fees for accessing phone and internet services', 'Charges for phone and internet connectivity', 'Costs for phone and internet connections'], 'corona tests (prc or antigen tests)': ['COVID-19 tests (PCR or antigen tests)', 'Coronavirus tests (PCR or antigen tests)', 'Virus tests (PCR or antigen tests)', 'Pandemic tests (PCR or antigen tests)', 'Infection tests (PCR or antigen tests)', 'Disease tests (PCR or antigen tests)', 'SARS-CoV-2 tests (PCR or antigen tests)', 'Respiratory tests (PCR or antigen tests)', 'Swab tests (PCR or antigen tests)', 'Diagnostic tests (PCR or antigen tests)'], 'hotel': ['Lodging establishment', 'Accommodation facility', 'Inn', 'Motel', 'Guesthouse', 'Resort', 'Hostel', 'Bed and breakfast', 'Lodge', 'Hospitality establishment'], 'with friends': ['Hanging out with buddies', 'Chilling with pals', 'Spending time with my mates', 'Relaxing with my buddies', 'Having a good time with my friends', 'Enjoying the company of my pals', 'Socializing with my buddies', 'Kicking back with my mates', 'Unwinding with my friends', 'Sharing good times with my buddies'], 'self-catering house': ['A house where you can cook your own meals.', 'A house equipped with a kitchen for preparing your own food.', 'A house with facilities for cooking your own meals.', 'A house where you can do your own cooking.', 'A house with a kitchenette for self-catering.', 'A house that allows you to prepare your own meals.', 'A house with a self-contained kitchen for cooking.', 'A house that provides the option of cooking your own meals.', 'A house with a fully equipped kitchen for self-catering.', 'A house that enables you to cook your own food.'], 'camper': ['A recreational vehicle for camping', 'A mobile home for outdoor adventures', 'A vehicle equipped for camping and traveling', 'A motorhome for exploring the great outdoors', 'A portable shelter for camping trips', 'A vehicle designed for camping and road trips', 'A traveling home for outdoor enthusiasts', 'A mobile shelter for camping and traveling', 'A recreational vehicle for outdoor living', 'A vehicle that doubles as a home for camping and traveling.'], 'campsite': ['Outdoor lodging area', 'Tenting ground', 'Wilderness accommodation', 'Nature retreat', 'Open-air sleeping spot', 'Forest camping site', 'Backcountry shelter', 'Woodland encampment', 'Rural camping location', 'Bushland bivouac'], 'can i book a room for just myself?': ['Is it possible to reserve a room for one person only?', 'Can I make a reservation for a single occupancy room?', 'Do you have any rooms available for solo travelers?', 'Can I book a room for one guest only?', 'Is it okay to reserve a room for just me?', 'Can I get a room for a solo stay?', 'Do you offer single occupancy rooms for booking?', 'Can I make a reservation for a room for one person?', 'Is it possible to book a room for a solo traveler?', 'Can I reserve a room for myself only?'], 'i would like information on other options for accommodation': ['Can you provide me with details on alternative lodging choices?', \"I'm interested in learning about other accommodation options. Can you help me out?\", 'Could you give me some insight into different places to stay?', \"I'm curious about other lodging possibilities. Can you give me some suggestions?\", \"Can you tell me about other places to stay besides the one I'm considering?\", \"I'm looking for information on other accommodation choices. Can you assist me?\", 'Can you provide me with some alternatives to the current lodging option?', \"I'm wondering if there are other places to stay that I should consider. Can you give me some advice?\", 'Can you give me some information on other lodging options that might be available?', \"I'm interested in exploring other accommodation possibilities. Can you give me some recommendations?\"], 'do i have to pay a resort tax?': ['Is it mandatory for me to pay the resort tax?', 'Do I need to pay the resort tax?', 'Is the resort tax compulsory for me to pay?', 'Am I required to pay the resort tax?', 'Do I have an obligation to pay the resort tax?', 'Is it necessary for me to pay the resort tax?', 'Do I have to settle the resort tax?', 'Is the resort tax something I must pay?', 'Is the resort tax something I cannot avoid paying?', 'Is the resort tax something I must include in my payment?'], \"can i book a double bed room even if i'm traveling alone?\": [\"Is it possible to reserve a room with a double bed even if I'm traveling solo?\", \"Can I request a double bed room even if I'm the only one traveling?\", \"Would it be okay to book a room with a double bed even if I'm traveling alone?\", \"Can I reserve a room with a double bed even if I'm not accompanied?\", \"Is it alright to book a double bed room even if I'm traveling solo?\", \"Can I ask for a room with a double bed even if I'm the only one staying?\", \"Would it be possible to reserve a double bed room even if I'm traveling alone?\", \"Can I opt for a double bed room even if I'm not with anyone?\", \"Is it acceptable to book a room with a double bed even if I'm traveling solo?\", \"Can I choose a double bed room even if I'm not accompanied by anyone?\"], 'apply for a business trip': ['Request to go on a work-related journey', 'Submit a proposal for a corporate excursion', 'Ask for permission to travel for business purposes', 'Seek approval for a professional trip', 'Put in a request for a work-related expedition', 'Apply for a business excursion', 'Request authorization for a corporate travel', 'Ask for clearance to go on a professional journey', 'Submit a formal application for a business trip', 'Seek approval to travel for work reasons'], 'business trip reimbursement': ['Getting paid back for my work-related travel expenses', 'Receiving compensation for my business trip costs', 'Claiming back the money I spent on my work travel', 'Getting reimbursed for my business travel expenses', 'Having my work trip costs covered by my employer', 'Getting my business travel expenses refunded', 'Being compensated for the expenses I incurred during my work trip', 'Getting my business trip costs reimbursed by my company', 'Claiming back the money I spent on my work-related travel', 'Having my employer cover the expenses I incurred during my business trip'], 'hotel list': ['List of hotels', 'Roster of hotels', 'Catalog of hotels', 'Directory of hotels', 'Index of hotels', 'Roll call of hotels', 'Record of hotels', 'Register of hotels', 'Inventory of hotels', 'Lineup of hotels'], 'find a form': ['Locate a document', 'Discover a form', 'Hunt down a form', 'Track down a document', 'Unearth a form', 'Pinpoint a document', 'Retrieve a form', 'Procure a document', 'Acquire a form', 'Secure a document'], 'help filling out a form': ['Assistance with completing a document', 'Aid in filling out a form', 'Support with form completion', 'Guidance in filling out paperwork', 'Help with filling in a form', 'Assistance in completing a form', 'Support with filling out a document', 'Guidance with form filling', 'Help with completing a paperwork', 'Assistance in filling out a document'], 'how long do i have to submit my trip reimbursement request?': [\"What's the deadline for submitting my travel expense claim?\", 'Is there a time limit for filing my business trip reimbursement?', 'When do I need to turn in my travel expenses for reimbursement?', 'How much time do I have to request reimbursement for my business trip?', \"What's the timeframe for submitting my travel expenses for reimbursement?\", 'When is the cut-off date for filing my business travel expenses?', 'How long do I have to claim my expenses for my work trip?', 'Is there a deadline for submitting my travel expenses for reimbursement?', \"What's the time limit for requesting reimbursement for my business travel?\", 'When do I need to submit my travel expenses to get reimbursed?'], 'where can i submit my travel reimbursement request': ['Where do I need to send my travel expense claim?', 'Can you tell me where to submit my business travel reimbursement request?', \"I'm not sure where to send my travel expenses for reimbursement. Can you help?\", 'Could you point me in the right direction for submitting my travel reimbursement request?', 'I need to know where to submit my travel expenses for reimbursement. Any ideas?', 'Can you guide me on where to submit my business travel expenses for reimbursement?', \"I'm looking for information on where to submit my travel reimbursement request. Any suggestions?\", 'Can you advise me on where to send my business travel expenses for reimbursement?', \"I'm a bit lost on where to submit my travel expenses for reimbursement. Can you assist?\", 'Could you let me know where I should submit my business travel reimbursement request?'], 'where can i find my employee identification number?': ['Do you know where I can locate my employee ID number?', 'Can you tell me where to find my employee identification number?', \"I'm trying to find my employee ID number, any idea where it might be?\", 'Where exactly can I find my employee identification number?', \"I'm not sure where my employee ID number is, can you help me out?\", 'Could you point me in the direction of my employee identification number?', 'I need to know where my employee ID number is, any suggestions?', 'Any clue where I can find my employee identification number?', \"I'm having trouble locating my employee ID number, do you know where it is?\", 'Can you assist me in finding my employee identification number?'], 'safety emergency': ['An unexpected safety situation', 'A crisis related to safety', 'A sudden safety issue', 'An urgent safety concern', 'A safety-related emergency', 'A critical safety incident', 'A pressing safety matter', 'A serious safety problem', 'A hazardous safety event', 'A dangerous safety occurrence'], 'transport missed or cancelled': ['My ride got skipped or called off.', \"The transportation I was supposed to take didn't show up or got cancelled.\", 'I missed my means of transportation or it got cancelled.', \"The ride I was counting on didn't arrive or was cancelled.\", 'My mode of transport was missed or cancelled.', \"The transportation I had planned got cancelled or didn't come.\", 'I was left stranded as my ride was missed or cancelled.', \"The means of transportation I was relying on didn't show up or was cancelled.\", 'My ride was a no-show or got cancelled.', \"The transportation I had arranged didn't arrive or was cancelled.\"], 'medical emergency': ['Health crisis', 'Urgent medical situation', 'Sudden illness', 'Medical urgency', 'Health emergency', 'Critical medical condition', 'Unexpected health issue', 'Acute medical problem', 'Pressing health matter', 'Vital medical concern']}\n"
     ]
    }
   ],
   "source": [
    "# Lowercase answer synonym keys\n",
    "import json\n",
    "\n",
    "answer_synonyms = {}\n",
    "with open(\"../../../resources/en/reimburse/generated/chatgpt/train_answers.json\", \"r\") as f:\n",
    "    data = json.load(f)\n",
    "    for syn_key in data:\n",
    "        answer_synonyms[syn_key.lower()] = data[syn_key]\n",
    "\n",
    "print(answer_synonyms)\n",
    "\n",
    "with open(\"../../../resources/en/reimburse/generated/chatgpt/train_answers.json\", \"w\") as f:\n",
    "    json.dump(answer_synonyms, f)"
   ]
  },
  {
   "cell_type": "code",
   "execution_count": null,
   "metadata": {},
   "outputs": [],
   "source": []
  }
 ],
 "metadata": {
  "kernelspec": {
   "display_name": "cts_en",
   "language": "python",
   "name": "python3"
  },
  "language_info": {
   "codemirror_mode": {
    "name": "ipython",
    "version": 3
   },
   "file_extension": ".py",
   "mimetype": "text/x-python",
   "name": "python",
   "nbconvert_exporter": "python",
   "pygments_lexer": "ipython3",
   "version": "3.10.8"
  }
 },
 "nbformat": 4,
 "nbformat_minor": 2
}
