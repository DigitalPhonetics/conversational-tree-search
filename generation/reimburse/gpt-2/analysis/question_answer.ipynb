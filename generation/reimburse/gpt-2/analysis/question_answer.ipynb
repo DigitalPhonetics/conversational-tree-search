{
 "cells": [
  {
   "cell_type": "code",
   "execution_count": 1,
   "metadata": {},
   "outputs": [],
   "source": [
    "import os\n",
    "os.environ[\"CUDA_VISIBLE_DEVICES\"] = \"8\""
   ]
  },
  {
   "cell_type": "code",
   "execution_count": 2,
   "metadata": {},
   "outputs": [],
   "source": [
    "import sys\n",
    "sys.path.append(os.path.realpath('../../..'))"
   ]
  },
  {
   "cell_type": "code",
   "execution_count": 3,
   "metadata": {},
   "outputs": [
    {
     "name": "stderr",
     "output_type": "stream",
     "text": [
      "/mount/arbeitsdaten/asr-2/vaethdk/virtualenvs/cts_en/lib64/python3.10/site-packages/tqdm/auto.py:21: TqdmWarning: IProgress not found. Please update jupyter and ipywidgets. See https://ipywidgets.readthedocs.io/en/stable/user_install.html\n",
      "  from .autonotebook import tqdm as notebook_tqdm\n"
     ]
    }
   ],
   "source": [
    "from tqdm.auto import tqdm\n",
    "from typing import List\n",
    "import re\n",
    "from typing import List, Tuple, Dict\n",
    "from data.dataset import GraphDataset, ReimburseGraphDataset, DataAugmentationLevel, DialogNode, NodeType\n",
    "import seaborn as sns\n",
    "import pandas"
   ]
  },
  {
   "cell_type": "code",
   "execution_count": 4,
   "metadata": {},
   "outputs": [],
   "source": [
    "DEVICE = 'cuda:0'\n",
    "import torch"
   ]
  },
  {
   "cell_type": "code",
   "execution_count": 5,
   "metadata": {},
   "outputs": [
    {
     "name": "stdout",
     "output_type": "stream",
     "text": [
      "- not using synonyms\n",
      "===== Dataset Statistics =====\n",
      "- files:  en/train_graph.json en/train_answers.json\n",
      "- synonyms: False\n",
      "- depth: 20  - degree: 13\n",
      "- answers: 73\n",
      "- questions: 279\n",
      "- loaded original data: True\n",
      "- loaded generated data: False\n",
      "- not using synonyms\n",
      "===== Dataset Statistics =====\n",
      "- files:  en/test_graph.json en/test_answers.json\n",
      "- synonyms: False\n",
      "- depth: 20  - degree: 13\n",
      "- answers: 73\n",
      "- questions: 173\n",
      "- loaded original data: True\n",
      "- loaded generated data: False\n",
      "- Loading questions from  ../../../resources/en/generated/train_questions_v1.json\n",
      "- not using synonyms\n",
      "===== Dataset Statistics =====\n",
      "- files:  en/train_graph.json en/train_answers.json\n",
      "- synonyms: False\n",
      "- depth: 20  - degree: 13\n",
      "- answers: 73\n",
      "- questions: 1012\n",
      "- loaded original data: False\n",
      "- loaded generated data: True\n",
      "- Loading questions from  ../../../resources/en/generated/train_questions_v2.json\n",
      "- not using synonyms\n",
      "===== Dataset Statistics =====\n",
      "- files:  en/train_graph.json en/train_answers.json\n",
      "- synonyms: False\n",
      "- depth: 20  - degree: 13\n",
      "- answers: 73\n",
      "- questions: 800\n",
      "- loaded original data: False\n",
      "- loaded generated data: True\n",
      "- Loading questions from  ../../../resources/en/generated/train_questions_v3.json\n",
      "- not using synonyms\n",
      "===== Dataset Statistics =====\n",
      "- files:  en/train_graph.json en/train_answers.json\n",
      "- synonyms: False\n",
      "- depth: 20  - degree: 13\n",
      "- answers: 73\n",
      "- questions: 417\n",
      "- loaded original data: False\n",
      "- loaded generated data: True\n"
     ]
    }
   ],
   "source": [
    "human_data_train = ReimburseGraphDataset('en/reimburse/train_graph.json', 'en/reimburse/train_answers.json', False, augmentation=DataAugmentationLevel.NONE, resource_dir=\"../../../resources/\")\n",
    "human_data_test = ReimburseGraphDataset('en/reimburse/test_graph.json', 'en/treimburse/est_answers.json', False, augmentation=DataAugmentationLevel.NONE, resource_dir=\"../../../resources/\")\n",
    "generated_data_train_v1 = ReimburseGraphDataset('en/reimburse/train_graph.json', 'en/reimburse/train_answers.json', False, augmentation=DataAugmentationLevel.ARTIFICIAL_ONLY, augmentation_path=\"en/reimburse/generated/train_questions_v1.json\", resource_dir=\"../../../resources/\")\n",
    "generated_data_train_v2 = ReimburseGraphDataset('en/reimburse/train_graph.json', 'en/reimburse/train_answers.json', False, augmentation=DataAugmentationLevel.ARTIFICIAL_ONLY, augmentation_path=\"en/reimburse/generated/train_questions_v2.json\", resource_dir=\"../../../resources/\")\n",
    "generated_data_train_v3 = ReimburseGraphDataset('en/reimburse/train_graph.json', 'en/reimburse/train_answers.json', False, augmentation=DataAugmentationLevel.ARTIFICIAL_ONLY, augmentation_path=\"en/reimburse/generated/train_questions_v3.json\", resource_dir=\"../../../resources/\")"
   ]
  },
  {
   "cell_type": "markdown",
   "metadata": {},
   "source": [
    "# CALCULATING PERPLEXITY"
   ]
  },
  {
   "cell_type": "code",
   "execution_count": 6,
   "metadata": {},
   "outputs": [],
   "source": [
    "from transformers import AutoTokenizer, AutoModelForCausalLM\n",
    "tokenizer = AutoTokenizer.from_pretrained('gpt2-large', cache_dir=\"/mount/arbeitsdaten/asr-2/vaethdk/resources/weights/\")"
   ]
  },
  {
   "cell_type": "code",
   "execution_count": 7,
   "metadata": {},
   "outputs": [],
   "source": [
    "model = AutoModelForCausalLM.from_pretrained('gpt2-large', cache_dir=\"/mount/arbeitsdaten/asr-2/vaethdk/resources/weights/\")"
   ]
  },
  {
   "cell_type": "code",
   "execution_count": 8,
   "metadata": {},
   "outputs": [],
   "source": [
    "model = model.eval().to('cuda:0')"
   ]
  },
  {
   "cell_type": "code",
   "execution_count": 42,
   "metadata": {},
   "outputs": [],
   "source": [
    "# import transformers \n",
    "\n",
    "# # set quantization configuration to load large model with less GPU memory\n",
    "# # this requires the `bitsandbytes` library\n",
    "# bnb_config = transformers.BitsAndBytesConfig(\n",
    "#     load_in_4bit=True,\n",
    "#     bnb_4bit_quant_type='nf4',\n",
    "#     bnb_4bit_use_double_quant=True,\n",
    "#     bnb_4bit_compute_dtype=torch.bfloat16\n",
    "# )\n",
    "\n",
    "# model_id = 'meta-llama/Llama-2-70b-chat-hf'\n",
    "# model = transformers.AutoModelForCausalLM.from_pretrained(\n",
    "#     model_id,\n",
    "#     trust_remote_code=True,\n",
    "#     quantization_config=bnb_config,\n",
    "#     device_map='auto'\n",
    "# )"
   ]
  },
  {
   "cell_type": "code",
   "execution_count": 10,
   "metadata": {},
   "outputs": [],
   "source": [
    "def calculate_ppl(node: DialogNode) -> List[float]:\n",
    "    \"\"\" \n",
    "    Returns \n",
    "        A list of token probabilities (one tensor per question)\n",
    "        A list of token indices\n",
    "    \"\"\"\n",
    "    # generate prompt\n",
    "    ppls = []\n",
    "    with torch.no_grad():\n",
    "        for question in node.questions:\n",
    "            prompt = f\"{question.text if question.text.strip().endswith('?') else question.text + '?'} {node.text}\"\n",
    "            # forward prompt\n",
    "            inputs = tokenizer(prompt, return_tensors='pt').input_ids.to('cuda:0')\n",
    "            output = model(input_ids=inputs, labels=inputs)\n",
    "            ppl = torch.exp(output.loss.squeeze())\n",
    "            ppls.append(ppl.item())\n",
    "    return ppls\n"
   ]
  },
  {
   "cell_type": "code",
   "execution_count": 11,
   "metadata": {},
   "outputs": [],
   "source": [
    "def load_ppl(ppl_file: str) -> List[float]:\n",
    "    # Calculate perplexity of human data \n",
    "    ppls = torch.load(ppl_file, map_location=lambda storage, loc: storage)\n",
    "    perplexities = []\n",
    "    for node_key in ppls:\n",
    "        node_data = ppls[node_key] # list with probabilities per question\n",
    "        perplexities.extend(node_data)\n",
    "    print(ppl_file, \":\", len(perplexities), \"samples\")\n",
    "    return perplexities"
   ]
  },
  {
   "cell_type": "markdown",
   "metadata": {},
   "source": [
    "### HUMAN QUESTION PERPLEXITY"
   ]
  },
  {
   "cell_type": "code",
   "execution_count": 12,
   "metadata": {},
   "outputs": [
    {
     "name": "stderr",
     "output_type": "stream",
     "text": [
      "100%|██████████| 80/80 [00:07<00:00, 10.61it/s]\n"
     ]
    }
   ],
   "source": [
    "data = {}\n",
    "for node in tqdm(human_data_train.nodes_by_type[NodeType.INFO]):\n",
    "    if len(node.questions) > 0:\n",
    "        node_question_ppls = calculate_ppl(node)\n",
    "        data[node.key] = node_question_ppls\n",
    "torch.save(data, \"human_question_probs.pt\")"
   ]
  },
  {
   "cell_type": "code",
   "execution_count": 13,
   "metadata": {},
   "outputs": [
    {
     "name": "stderr",
     "output_type": "stream",
     "text": [
      "100%|██████████| 80/80 [00:04<00:00, 18.55it/s]\n"
     ]
    }
   ],
   "source": [
    "data = {}\n",
    "for node in tqdm(human_data_test.nodes_by_type[NodeType.INFO]):\n",
    "    if len(node.questions) > 0:\n",
    "        node_question_ppls = calculate_ppl(node)\n",
    "        data[node.key] = node_question_ppls\n",
    "torch.save(data, \"human_question_probs_testdata.pt\")"
   ]
  },
  {
   "cell_type": "code",
   "execution_count": 14,
   "metadata": {},
   "outputs": [
    {
     "name": "stderr",
     "output_type": "stream",
     "text": [
      "100%|██████████| 80/80 [00:20<00:00,  3.93it/s]\n"
     ]
    }
   ],
   "source": [
    "data = {}\n",
    "for node in tqdm(generated_data_train_v1.nodes_by_type[NodeType.INFO]):\n",
    "    if len(node.questions) > 0:\n",
    "        node_question_ppls = calculate_ppl(node)\n",
    "        data[node.key] = node_question_ppls\n",
    "torch.save(data, \"generated_question_probs_v1.pt\")"
   ]
  },
  {
   "cell_type": "code",
   "execution_count": 15,
   "metadata": {},
   "outputs": [
    {
     "name": "stderr",
     "output_type": "stream",
     "text": [
      "100%|██████████| 80/80 [00:20<00:00,  3.94it/s]\n"
     ]
    }
   ],
   "source": [
    "data = {}\n",
    "for node in tqdm(generated_data_train_v2.nodes_by_type[NodeType.INFO]):\n",
    "    if len(node.questions) > 0:\n",
    "        node_question_ppls = calculate_ppl(node)\n",
    "        data[node.key] = node_question_ppls\n",
    "torch.save(data, \"generated_question_probs_v2.pt\")"
   ]
  },
  {
   "cell_type": "code",
   "execution_count": 16,
   "metadata": {},
   "outputs": [
    {
     "name": "stderr",
     "output_type": "stream",
     "text": [
      "100%|██████████| 80/80 [00:10<00:00,  7.50it/s]\n"
     ]
    }
   ],
   "source": [
    "data = {}\n",
    "for node in tqdm(generated_data_train_v3.nodes_by_type[NodeType.INFO]):\n",
    "    if len(node.questions) > 0:\n",
    "        node_question_ppls = calculate_ppl(node)\n",
    "        data[node.key] = node_question_ppls\n",
    "torch.save(data, \"generated_question_probs_v3.pt\")"
   ]
  },
  {
   "cell_type": "code",
   "execution_count": 17,
   "metadata": {},
   "outputs": [
    {
     "name": "stdout",
     "output_type": "stream",
     "text": [
      "human_question_probs.pt : 269 samples\n",
      "human_question_probs_testdata.pt : 167 samples\n",
      "generated_question_probs_v1.pt : 800 samples\n",
      "generated_question_probs_v2.pt : 800 samples\n",
      "generated_question_probs_v3.pt : 417 samples\n"
     ]
    }
   ],
   "source": [
    "df = pandas.DataFrame(\n",
    "    [{\"source\": \"human_questions_train\", \"ppl\": ppl} for ppl in load_ppl('human_question_probs.pt')] + \n",
    "    [{\"source\": \"human_questions_test\", \"ppl\": ppl} for ppl in load_ppl('human_question_probs_testdata.pt')] +\n",
    "    [{\"source\": 'generated v1', \"ppl\": ppl} for ppl in load_ppl('generated_question_probs_v1.pt')] +\n",
    "    [{\"source\": 'generated v2', \"ppl\": ppl} for ppl in load_ppl('generated_question_probs_v2.pt')] +\n",
    "    [{\"source\": 'generated v3', \"ppl\": ppl} for ppl in load_ppl('generated_question_probs_v3.pt')]\n",
    ")"
   ]
  },
  {
   "cell_type": "code",
   "execution_count": 22,
   "metadata": {},
   "outputs": [
    {
     "data": {
      "text/plain": [
       "<seaborn.axisgrid.FacetGrid at 0x7f387c07b7f0>"
      ]
     },
     "execution_count": 22,
     "metadata": {},
     "output_type": "execute_result"
    },
    {
     "data": {
      "image/png": "[encoded data removed]",
      "text/plain": [
       "<Figure size 711.875x500 with 1 Axes>"
      ]
     },
     "metadata": {},
     "output_type": "display_data"
    }
   ],
   "source": [
    "sns.displot(df.reset_index(drop=True), x=\"ppl\", kind=\"kde\", hue='source', common_norm=True)"
   ]
  }
 ],
 "metadata": {
  "kernelspec": {
   "display_name": ".env",
   "language": "python",
   "name": "python3"
  },
  "language_info": {
   "codemirror_mode": {
    "name": "ipython",
    "version": 3
   },
   "file_extension": ".py",
   "mimetype": "text/x-python",
   "name": "python",
   "nbconvert_exporter": "python",
   "pygments_lexer": "ipython3",
   "version": "3.10.8"
  },
  "orig_nbformat": 4
 },
 "nbformat": 4,
 "nbformat_minor": 2
}
